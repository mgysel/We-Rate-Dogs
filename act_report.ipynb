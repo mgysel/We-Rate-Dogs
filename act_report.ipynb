{
 "cells": [
  {
   "cell_type": "markdown",
   "metadata": {},
   "source": [
    "# Act Report"
   ]
  },
  {
   "cell_type": "markdown",
   "metadata": {},
   "source": [
    "<a href='https://twitter.com/dog_rates?ref_src=twsrc%5Egoogle%7Ctwcamp%5Eserp%7Ctwgr%5Eauthor'>WeRateDogs</a> is a Twitter account that rates people's dogs with a humorous comment about the dog. Thousands of WeRateDogs tweets were gathered, assessed, and cleaned in order to allow for an exploration of tweet rating, tweet text, dog breed, dog name, number of favorites, and number of retweets. \n",
    "\n",
    "Upon this data exploration, the following three questions were asked:\n",
    "1. Does rating correlate with the number of retweets or favorites?\n",
    "2. Does the amount of tweet text correlate with the rating, number of retweets, or number of favorites?\n",
    "3. Does dog breed correlate with rating, number of retweets, or number of favorites?\n",
    "\n",
    "While the tweet text did not correlate with dog rating, number of favorites, or number of retweets, two other relationships were found:\n",
    "1. As the two graphs below depict, weak positive correlations were found between rating and number of retweets with a correlation coefficient of 0.21 and between rating and number of favorites with a correlation coefficient of 0.28. \n",
    "<img src=\"images/rating_retweet.png\">\n",
    "<img src=\"images/rating_favorite.png\">\n",
    "2. As the two graphs below depict, The distributions of both retweets grouped by dog breed and favorites grouped by dog breed are long-tailed, right-skewed distributions. The three dog breeds with the highest average number of retweets per post are the Miniature Schnauzer with 11,293, Tibetan Terrier with 10,786, and Irish Terrier with 8,245. The three dog breeds with the highest average number of favorites per post are the Tibetan Terrier with 50,631, Giant Schnauzer with 25,619, and the Yorkshire Terrier with 24,758.\n",
    "<img src=\"images/rating_retweet.png\">\n",
    "<img src=\"images/rating_favorite.png\">\n",
    "\n",
    "From this analysis, we can conclude that Schnauzers and Terriers are objectively too cute!!"
   ]
  }
 ],
 "metadata": {
  "kernelspec": {
   "display_name": "Python [conda env:anaconda3]",
   "language": "python",
   "name": "conda-env-anaconda3-py"
  },
  "language_info": {
   "codemirror_mode": {
    "name": "ipython",
    "version": 3
   },
   "file_extension": ".py",
   "mimetype": "text/x-python",
   "name": "python",
   "nbconvert_exporter": "python",
   "pygments_lexer": "ipython3",
   "version": "3.6.4"
  }
 },
 "nbformat": 4,
 "nbformat_minor": 2
}
