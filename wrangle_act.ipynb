{
 "cells": [
  {
   "cell_type": "markdown",
   "metadata": {},
   "source": [
    "# Data Wrangling Practice - WeRateDogs\n",
    "\n",
    "## Introduction\n",
    "This notebook was used to practice data wrangling on the tweet archive of Twitter user @dog_rates, also known as WeRateDogs. WeRateDogs is a Twitter account that rates people's dogs with a humorous comment about the dog. "
   ]
  },
  {
   "cell_type": "code",
   "execution_count": 1454,
   "metadata": {},
   "outputs": [],
   "source": [
    "# Load dependencies\n",
    "import os\n",
    "import requests\n",
    "import json\n",
    "import numpy as np\n",
    "import pandas as pd\n",
    "import matplotlib.pyplot as plt\n",
    "% matplotlib inline"
   ]
  },
  {
   "cell_type": "markdown",
   "metadata": {},
   "source": [
    "## Gather\n",
    "\n",
    "### Manually Download twitter-archive-enhanced.csv"
   ]
  },
  {
   "cell_type": "code",
   "execution_count": 55,
   "metadata": {},
   "outputs": [],
   "source": [
    "# Load twitter-archive-enhanced.csv into df\n",
    "twitter_archive_df = pd.read_csv('data/twitter-archive-enhanced.csv')"
   ]
  },
  {
   "cell_type": "markdown",
   "metadata": {},
   "source": [
    "### Programmatically Download image-predictions.tsv"
   ]
  },
  {
   "cell_type": "code",
   "execution_count": 30,
   "metadata": {},
   "outputs": [],
   "source": [
    "# Create tsv file from 'https://d17h27t6h515a5.cloudfront.net/topher/2017/August/599fd2ad_image-predictions/image-predictions.tsv'\n",
    "with open(os.path.join('/Users/michaelgysel/Google Drive/Computer Science/Udacity/Data Analyst/P6 - Data Wrangling/Project/data','image-predictions.tsv'), 'wb') as file:\n",
    "    file.write(requests.get('https://d17h27t6h515a5.cloudfront.net/topher/2017/August/599fd2ad_image-predictions/image-predictions.tsv').content)\n",
    "\n",
    "# Read tsv as a df\n",
    "image_predictions_df = pd.read_csv('data/image-predictions.tsv', delimiter='\\t')"
   ]
  },
  {
   "cell_type": "markdown",
   "metadata": {},
   "source": [
    "### WeRateDogs data from Twitter API"
   ]
  },
  {
   "cell_type": "code",
   "execution_count": 171,
   "metadata": {},
   "outputs": [],
   "source": [
    "# Import tweepy, used to access Twitter API\n",
    "import tweepy\n",
    "\n",
    "# Pass keys for authorization\n",
    "auth = tweepy.OAuthHandler('kIZwzcWyaboEOoXhrJztvkfKe', 'TCWzmbNpG5bsoQEI1SvHnvy7EcEZxYsQrc0l7yeOa8vQctGnP9')\n",
    "auth.set_access_token('997282837047857152-L1IkkdmlV2aTH3cWyyJYCzOFBrRlq48', 'vckftFFAuni0iEiNrBbs6aQVe7i5In6SFrBMwxNKFJ2VV')\n",
    "\n",
    "api = tweepy.API(auth, wait_on_rate_limit=True, wait_on_rate_limit_notify=True)"
   ]
  },
  {
   "cell_type": "code",
   "execution_count": 626,
   "metadata": {},
   "outputs": [],
   "source": [
    "# Write each tweet to the tweet_json.txt file\n",
    "\n",
    "# Store tweets in tweet_json.txt file\n",
    "with open(os.path.join(os.getcwd(),'tweet_json.txt'), 'w') as file:\n",
    "    # Number of tweets to lookup (i to num_tweets)\n",
    "    i = 0\n",
    "    num_tweets_index = len(twitter_archive_df.tweet_id) - 1\n",
    "    # Loop through all of the tweets in twitter_archive_df\n",
    "    while i < num_tweets_index:\n",
    "        # Obtain tweet_ids\n",
    "        tweet_ids = twitter_archive_df.tweet_id.iloc[i:i+100].tolist()\n",
    "        # Obtain tweets from tweepy\n",
    "        tweets = api.statuses_lookup(tweet_ids)\n",
    "        # Write each tweet to the file\n",
    "        for tweet in tweets:\n",
    "            file.write(json.dumps(tweet._json))\n",
    "            file.write('\\n')\n",
    "        i += 100"
   ]
  },
  {
   "cell_type": "code",
   "execution_count": 646,
   "metadata": {},
   "outputs": [],
   "source": [
    "# read tweet_json.txt line by line into a pandas DataFrame with \n",
    "# tweet_id, retweet_count, and favorite_count.\n",
    "\n",
    "# Variable to hold tweets\n",
    "tweets\n",
    "# Open tweet_json.txt\n",
    "with open('tweet_json.txt', 'r') as file:\n",
    "    # Append each line to tweets list\n",
    "    tweets = file.readlines()\n",
    "    \n",
    "# Create empty list to hold tweet_id, retweet_count, favorite_count for each tweet\n",
    "twitter_archive_additional = []\n",
    "\n",
    "# Loop through tweets, append twitter_archive_additional_df\n",
    "# with tweet_id, retweet_count, and favorite_count\n",
    "for tweet in tweets:\n",
    "    this_tweet = json.loads(tweet.replace('\\n',''))\n",
    "    tweet_id = this_tweet['id']\n",
    "    retweet_count = this_tweet['retweet_count']\n",
    "    favorite_count = this_tweet['favorite_count']\n",
    "    twitter_archive_additional.append({'tweet_id': tweet_id, \n",
    "                                       'retweet_count': retweet_count, \n",
    "                                       'favorite_count': favorite_count}) \n",
    "\n",
    "# Turn list into dataframe\n",
    "twitter_archive_additional_df = pd.DataFrame(twitter_archive_additional, columns=['tweet_id',\n",
    "                                                                                  'retweet_count',\n",
    "                                                                                  'favorite_count'])"
   ]
  },
  {
   "cell_type": "markdown",
   "metadata": {},
   "source": [
    "## Assess\n",
    "\n",
    "### twitter_archive_df\n",
    "\n",
    "#### Summary of Data Issues\n",
    "- Quality\n",
    "    - 'None' values in doggo, floofer, pupper, and puppo columns are non-null values\n",
    "    - timestamp of object type\n",
    "    - rating_numerator has some odd values like 960, 666, 1776\n",
    "    - rating_denominator not always 10\n",
    "    - name has erroneous values like 'a', 'the', 'an'\n",
    "    - some expanded_urls columns have more than one url separated by a comma\n",
    "- Tidiness\n",
    "    - dog stage column names (doggo, floofer, pupper, and puppo) are categories \n",
    "    - replies and retweets included as observations\n",
    "    \n",
    "#### Visual Assessment"
   ]
  },
  {
   "cell_type": "code",
   "execution_count": 155,
   "metadata": {
    "scrolled": true
   },
   "outputs": [
    {
     "data": {
      "text/html": [
       "<div>\n",
       "<style scoped>\n",
       "    .dataframe tbody tr th:only-of-type {\n",
       "        vertical-align: middle;\n",
       "    }\n",
       "\n",
       "    .dataframe tbody tr th {\n",
       "        vertical-align: top;\n",
       "    }\n",
       "\n",
       "    .dataframe thead th {\n",
       "        text-align: right;\n",
       "    }\n",
       "</style>\n",
       "<table border=\"1\" class=\"dataframe\">\n",
       "  <thead>\n",
       "    <tr style=\"text-align: right;\">\n",
       "      <th></th>\n",
       "      <th>tweet_id</th>\n",
       "      <th>in_reply_to_status_id</th>\n",
       "      <th>in_reply_to_user_id</th>\n",
       "      <th>timestamp</th>\n",
       "      <th>source</th>\n",
       "      <th>text</th>\n",
       "      <th>retweeted_status_id</th>\n",
       "      <th>retweeted_status_user_id</th>\n",
       "      <th>retweeted_status_timestamp</th>\n",
       "      <th>expanded_urls</th>\n",
       "      <th>rating_numerator</th>\n",
       "      <th>rating_denominator</th>\n",
       "      <th>name</th>\n",
       "      <th>doggo</th>\n",
       "      <th>floofer</th>\n",
       "      <th>pupper</th>\n",
       "      <th>puppo</th>\n",
       "    </tr>\n",
       "  </thead>\n",
       "  <tbody>\n",
       "    <tr>\n",
       "      <th>0</th>\n",
       "      <td>892420643555336193</td>\n",
       "      <td>NaN</td>\n",
       "      <td>NaN</td>\n",
       "      <td>2017-08-01 16:23:56 +0000</td>\n",
       "      <td>&lt;a href=\"http://twitter.com/download/iphone\" r...</td>\n",
       "      <td>This is Phineas. He's a mystical boy. Only eve...</td>\n",
       "      <td>NaN</td>\n",
       "      <td>NaN</td>\n",
       "      <td>NaN</td>\n",
       "      <td>https://twitter.com/dog_rates/status/892420643...</td>\n",
       "      <td>13</td>\n",
       "      <td>10</td>\n",
       "      <td>Phineas</td>\n",
       "      <td>None</td>\n",
       "      <td>None</td>\n",
       "      <td>None</td>\n",
       "      <td>None</td>\n",
       "    </tr>\n",
       "    <tr>\n",
       "      <th>1</th>\n",
       "      <td>892177421306343426</td>\n",
       "      <td>NaN</td>\n",
       "      <td>NaN</td>\n",
       "      <td>2017-08-01 00:17:27 +0000</td>\n",
       "      <td>&lt;a href=\"http://twitter.com/download/iphone\" r...</td>\n",
       "      <td>This is Tilly. She's just checking pup on you....</td>\n",
       "      <td>NaN</td>\n",
       "      <td>NaN</td>\n",
       "      <td>NaN</td>\n",
       "      <td>https://twitter.com/dog_rates/status/892177421...</td>\n",
       "      <td>13</td>\n",
       "      <td>10</td>\n",
       "      <td>Tilly</td>\n",
       "      <td>None</td>\n",
       "      <td>None</td>\n",
       "      <td>None</td>\n",
       "      <td>None</td>\n",
       "    </tr>\n",
       "    <tr>\n",
       "      <th>2</th>\n",
       "      <td>891815181378084864</td>\n",
       "      <td>NaN</td>\n",
       "      <td>NaN</td>\n",
       "      <td>2017-07-31 00:18:03 +0000</td>\n",
       "      <td>&lt;a href=\"http://twitter.com/download/iphone\" r...</td>\n",
       "      <td>This is Archie. He is a rare Norwegian Pouncin...</td>\n",
       "      <td>NaN</td>\n",
       "      <td>NaN</td>\n",
       "      <td>NaN</td>\n",
       "      <td>https://twitter.com/dog_rates/status/891815181...</td>\n",
       "      <td>12</td>\n",
       "      <td>10</td>\n",
       "      <td>Archie</td>\n",
       "      <td>None</td>\n",
       "      <td>None</td>\n",
       "      <td>None</td>\n",
       "      <td>None</td>\n",
       "    </tr>\n",
       "    <tr>\n",
       "      <th>3</th>\n",
       "      <td>891689557279858688</td>\n",
       "      <td>NaN</td>\n",
       "      <td>NaN</td>\n",
       "      <td>2017-07-30 15:58:51 +0000</td>\n",
       "      <td>&lt;a href=\"http://twitter.com/download/iphone\" r...</td>\n",
       "      <td>This is Darla. She commenced a snooze mid meal...</td>\n",
       "      <td>NaN</td>\n",
       "      <td>NaN</td>\n",
       "      <td>NaN</td>\n",
       "      <td>https://twitter.com/dog_rates/status/891689557...</td>\n",
       "      <td>13</td>\n",
       "      <td>10</td>\n",
       "      <td>Darla</td>\n",
       "      <td>None</td>\n",
       "      <td>None</td>\n",
       "      <td>None</td>\n",
       "      <td>None</td>\n",
       "    </tr>\n",
       "    <tr>\n",
       "      <th>4</th>\n",
       "      <td>891327558926688256</td>\n",
       "      <td>NaN</td>\n",
       "      <td>NaN</td>\n",
       "      <td>2017-07-29 16:00:24 +0000</td>\n",
       "      <td>&lt;a href=\"http://twitter.com/download/iphone\" r...</td>\n",
       "      <td>This is Franklin. He would like you to stop ca...</td>\n",
       "      <td>NaN</td>\n",
       "      <td>NaN</td>\n",
       "      <td>NaN</td>\n",
       "      <td>https://twitter.com/dog_rates/status/891327558...</td>\n",
       "      <td>12</td>\n",
       "      <td>10</td>\n",
       "      <td>Franklin</td>\n",
       "      <td>None</td>\n",
       "      <td>None</td>\n",
       "      <td>None</td>\n",
       "      <td>None</td>\n",
       "    </tr>\n",
       "  </tbody>\n",
       "</table>\n",
       "</div>"
      ],
      "text/plain": [
       "             tweet_id  in_reply_to_status_id  in_reply_to_user_id  \\\n",
       "0  892420643555336193                    NaN                  NaN   \n",
       "1  892177421306343426                    NaN                  NaN   \n",
       "2  891815181378084864                    NaN                  NaN   \n",
       "3  891689557279858688                    NaN                  NaN   \n",
       "4  891327558926688256                    NaN                  NaN   \n",
       "\n",
       "                   timestamp  \\\n",
       "0  2017-08-01 16:23:56 +0000   \n",
       "1  2017-08-01 00:17:27 +0000   \n",
       "2  2017-07-31 00:18:03 +0000   \n",
       "3  2017-07-30 15:58:51 +0000   \n",
       "4  2017-07-29 16:00:24 +0000   \n",
       "\n",
       "                                              source  \\\n",
       "0  <a href=\"http://twitter.com/download/iphone\" r...   \n",
       "1  <a href=\"http://twitter.com/download/iphone\" r...   \n",
       "2  <a href=\"http://twitter.com/download/iphone\" r...   \n",
       "3  <a href=\"http://twitter.com/download/iphone\" r...   \n",
       "4  <a href=\"http://twitter.com/download/iphone\" r...   \n",
       "\n",
       "                                                text  retweeted_status_id  \\\n",
       "0  This is Phineas. He's a mystical boy. Only eve...                  NaN   \n",
       "1  This is Tilly. She's just checking pup on you....                  NaN   \n",
       "2  This is Archie. He is a rare Norwegian Pouncin...                  NaN   \n",
       "3  This is Darla. She commenced a snooze mid meal...                  NaN   \n",
       "4  This is Franklin. He would like you to stop ca...                  NaN   \n",
       "\n",
       "   retweeted_status_user_id retweeted_status_timestamp  \\\n",
       "0                       NaN                        NaN   \n",
       "1                       NaN                        NaN   \n",
       "2                       NaN                        NaN   \n",
       "3                       NaN                        NaN   \n",
       "4                       NaN                        NaN   \n",
       "\n",
       "                                       expanded_urls  rating_numerator  \\\n",
       "0  https://twitter.com/dog_rates/status/892420643...                13   \n",
       "1  https://twitter.com/dog_rates/status/892177421...                13   \n",
       "2  https://twitter.com/dog_rates/status/891815181...                12   \n",
       "3  https://twitter.com/dog_rates/status/891689557...                13   \n",
       "4  https://twitter.com/dog_rates/status/891327558...                12   \n",
       "\n",
       "   rating_denominator      name doggo floofer pupper puppo  \n",
       "0                  10   Phineas  None    None   None  None  \n",
       "1                  10     Tilly  None    None   None  None  \n",
       "2                  10    Archie  None    None   None  None  \n",
       "3                  10     Darla  None    None   None  None  \n",
       "4                  10  Franklin  None    None   None  None  "
      ]
     },
     "execution_count": 155,
     "metadata": {},
     "output_type": "execute_result"
    }
   ],
   "source": [
    "# Visual check\n",
    "twitter_archive_df.head()"
   ]
  },
  {
   "cell_type": "markdown",
   "metadata": {},
   "source": [
    "The following issues were determined from the visual assessment:\n",
    "- dog stage column names (doggo, floofer, pupper, and puppo) are categories\n",
    "- replies and retweets included as observations"
   ]
  },
  {
   "cell_type": "markdown",
   "metadata": {},
   "source": [
    "#### Programmatic Assessment"
   ]
  },
  {
   "cell_type": "code",
   "execution_count": 103,
   "metadata": {
    "scrolled": true
   },
   "outputs": [
    {
     "name": "stdout",
     "output_type": "stream",
     "text": [
      "<class 'pandas.core.frame.DataFrame'>\n",
      "RangeIndex: 2356 entries, 0 to 2355\n",
      "Data columns (total 17 columns):\n",
      "tweet_id                      2356 non-null int64\n",
      "in_reply_to_status_id         78 non-null float64\n",
      "in_reply_to_user_id           78 non-null float64\n",
      "timestamp                     2356 non-null object\n",
      "source                        2356 non-null object\n",
      "text                          2356 non-null object\n",
      "retweeted_status_id           181 non-null float64\n",
      "retweeted_status_user_id      181 non-null float64\n",
      "retweeted_status_timestamp    181 non-null object\n",
      "expanded_urls                 2297 non-null object\n",
      "rating_numerator              2356 non-null int64\n",
      "rating_denominator            2356 non-null int64\n",
      "name                          2356 non-null object\n",
      "doggo                         2356 non-null object\n",
      "floofer                       2356 non-null object\n",
      "pupper                        2356 non-null object\n",
      "puppo                         2356 non-null object\n",
      "dtypes: float64(4), int64(3), object(10)\n",
      "memory usage: 313.0+ KB\n"
     ]
    }
   ],
   "source": [
    "# Check data types and null values\n",
    "twitter_archive_df.info()"
   ]
  },
  {
   "cell_type": "markdown",
   "metadata": {},
   "source": [
    "Issues determined from checking the data types:\n",
    "- 'None' values in doggo, floofer, pupper, and puppo columns are non-null values\n",
    "- timestamp, retweeted_status_timestamp of object type\n",
    "- in_reply_to_status_id, in_reply_to_user_id retweeted_status_id, retweeted_status_user_id of float type"
   ]
  },
  {
   "cell_type": "code",
   "execution_count": 104,
   "metadata": {},
   "outputs": [
    {
     "data": {
      "text/plain": [
       "0"
      ]
     },
     "execution_count": 104,
     "metadata": {},
     "output_type": "execute_result"
    }
   ],
   "source": [
    "# Check for duplicates\n",
    "twitter_archive_df.duplicated().sum()"
   ]
  },
  {
   "cell_type": "code",
   "execution_count": 108,
   "metadata": {},
   "outputs": [
    {
     "data": {
      "text/plain": [
       "<a href=\"http://twitter.com/download/iphone\" rel=\"nofollow\">Twitter for iPhone</a>     2221\n",
       "<a href=\"http://vine.co\" rel=\"nofollow\">Vine - Make a Scene</a>                          91\n",
       "<a href=\"http://twitter.com\" rel=\"nofollow\">Twitter Web Client</a>                       33\n",
       "<a href=\"https://about.twitter.com/products/tweetdeck\" rel=\"nofollow\">TweetDeck</a>      11\n",
       "Name: source, dtype: int64"
      ]
     },
     "execution_count": 108,
     "metadata": {},
     "output_type": "execute_result"
    }
   ],
   "source": [
    "# Check values for each column\n",
    "twitter_archive_df.iloc[:,4].value_counts()"
   ]
  },
  {
   "cell_type": "markdown",
   "metadata": {},
   "source": [
    "Issues determined from checking the value_counts for each column:\n",
    "- rating_numerator has some odd values like 960, 666, 1776\n",
    "- rating_denominator not always 10\n",
    "- name has erroneous values like 'a', 'the', 'an'\n",
    "- some expanded_urls columns have more than one url separated by a comma"
   ]
  },
  {
   "cell_type": "markdown",
   "metadata": {},
   "source": [
    "### image_predictions_df\n",
    "\n",
    "#### Summary of Data Issues\n",
    "- Quality\n",
    "    - none\n",
    "- Tidiness\n",
    "    - none\n",
    "    \n",
    "#### Visual Assessment"
   ]
  },
  {
   "cell_type": "code",
   "execution_count": 98,
   "metadata": {},
   "outputs": [
    {
     "data": {
      "text/html": [
       "<div>\n",
       "<style scoped>\n",
       "    .dataframe tbody tr th:only-of-type {\n",
       "        vertical-align: middle;\n",
       "    }\n",
       "\n",
       "    .dataframe tbody tr th {\n",
       "        vertical-align: top;\n",
       "    }\n",
       "\n",
       "    .dataframe thead th {\n",
       "        text-align: right;\n",
       "    }\n",
       "</style>\n",
       "<table border=\"1\" class=\"dataframe\">\n",
       "  <thead>\n",
       "    <tr style=\"text-align: right;\">\n",
       "      <th></th>\n",
       "      <th>tweet_id</th>\n",
       "      <th>jpg_url</th>\n",
       "      <th>img_num</th>\n",
       "      <th>p1</th>\n",
       "      <th>p1_conf</th>\n",
       "      <th>p1_dog</th>\n",
       "      <th>p2</th>\n",
       "      <th>p2_conf</th>\n",
       "      <th>p2_dog</th>\n",
       "      <th>p3</th>\n",
       "      <th>p3_conf</th>\n",
       "      <th>p3_dog</th>\n",
       "    </tr>\n",
       "  </thead>\n",
       "  <tbody>\n",
       "    <tr>\n",
       "      <th>0</th>\n",
       "      <td>666020888022790149</td>\n",
       "      <td>https://pbs.twimg.com/media/CT4udn0WwAA0aMy.jpg</td>\n",
       "      <td>1</td>\n",
       "      <td>Welsh_springer_spaniel</td>\n",
       "      <td>0.465074</td>\n",
       "      <td>True</td>\n",
       "      <td>collie</td>\n",
       "      <td>0.156665</td>\n",
       "      <td>True</td>\n",
       "      <td>Shetland_sheepdog</td>\n",
       "      <td>0.061428</td>\n",
       "      <td>True</td>\n",
       "    </tr>\n",
       "    <tr>\n",
       "      <th>1</th>\n",
       "      <td>666029285002620928</td>\n",
       "      <td>https://pbs.twimg.com/media/CT42GRgUYAA5iDo.jpg</td>\n",
       "      <td>1</td>\n",
       "      <td>redbone</td>\n",
       "      <td>0.506826</td>\n",
       "      <td>True</td>\n",
       "      <td>miniature_pinscher</td>\n",
       "      <td>0.074192</td>\n",
       "      <td>True</td>\n",
       "      <td>Rhodesian_ridgeback</td>\n",
       "      <td>0.072010</td>\n",
       "      <td>True</td>\n",
       "    </tr>\n",
       "    <tr>\n",
       "      <th>2</th>\n",
       "      <td>666033412701032449</td>\n",
       "      <td>https://pbs.twimg.com/media/CT4521TWwAEvMyu.jpg</td>\n",
       "      <td>1</td>\n",
       "      <td>German_shepherd</td>\n",
       "      <td>0.596461</td>\n",
       "      <td>True</td>\n",
       "      <td>malinois</td>\n",
       "      <td>0.138584</td>\n",
       "      <td>True</td>\n",
       "      <td>bloodhound</td>\n",
       "      <td>0.116197</td>\n",
       "      <td>True</td>\n",
       "    </tr>\n",
       "    <tr>\n",
       "      <th>3</th>\n",
       "      <td>666044226329800704</td>\n",
       "      <td>https://pbs.twimg.com/media/CT5Dr8HUEAA-lEu.jpg</td>\n",
       "      <td>1</td>\n",
       "      <td>Rhodesian_ridgeback</td>\n",
       "      <td>0.408143</td>\n",
       "      <td>True</td>\n",
       "      <td>redbone</td>\n",
       "      <td>0.360687</td>\n",
       "      <td>True</td>\n",
       "      <td>miniature_pinscher</td>\n",
       "      <td>0.222752</td>\n",
       "      <td>True</td>\n",
       "    </tr>\n",
       "    <tr>\n",
       "      <th>4</th>\n",
       "      <td>666049248165822465</td>\n",
       "      <td>https://pbs.twimg.com/media/CT5IQmsXIAAKY4A.jpg</td>\n",
       "      <td>1</td>\n",
       "      <td>miniature_pinscher</td>\n",
       "      <td>0.560311</td>\n",
       "      <td>True</td>\n",
       "      <td>Rottweiler</td>\n",
       "      <td>0.243682</td>\n",
       "      <td>True</td>\n",
       "      <td>Doberman</td>\n",
       "      <td>0.154629</td>\n",
       "      <td>True</td>\n",
       "    </tr>\n",
       "  </tbody>\n",
       "</table>\n",
       "</div>"
      ],
      "text/plain": [
       "             tweet_id                                          jpg_url  \\\n",
       "0  666020888022790149  https://pbs.twimg.com/media/CT4udn0WwAA0aMy.jpg   \n",
       "1  666029285002620928  https://pbs.twimg.com/media/CT42GRgUYAA5iDo.jpg   \n",
       "2  666033412701032449  https://pbs.twimg.com/media/CT4521TWwAEvMyu.jpg   \n",
       "3  666044226329800704  https://pbs.twimg.com/media/CT5Dr8HUEAA-lEu.jpg   \n",
       "4  666049248165822465  https://pbs.twimg.com/media/CT5IQmsXIAAKY4A.jpg   \n",
       "\n",
       "   img_num                      p1   p1_conf  p1_dog                  p2  \\\n",
       "0        1  Welsh_springer_spaniel  0.465074    True              collie   \n",
       "1        1                 redbone  0.506826    True  miniature_pinscher   \n",
       "2        1         German_shepherd  0.596461    True            malinois   \n",
       "3        1     Rhodesian_ridgeback  0.408143    True             redbone   \n",
       "4        1      miniature_pinscher  0.560311    True          Rottweiler   \n",
       "\n",
       "    p2_conf  p2_dog                   p3   p3_conf  p3_dog  \n",
       "0  0.156665    True    Shetland_sheepdog  0.061428    True  \n",
       "1  0.074192    True  Rhodesian_ridgeback  0.072010    True  \n",
       "2  0.138584    True           bloodhound  0.116197    True  \n",
       "3  0.360687    True   miniature_pinscher  0.222752    True  \n",
       "4  0.243682    True             Doberman  0.154629    True  "
      ]
     },
     "execution_count": 98,
     "metadata": {},
     "output_type": "execute_result"
    }
   ],
   "source": [
    "# Visual assessment of image_predictions_df\n",
    "image_predictions_df.head()"
   ]
  },
  {
   "cell_type": "markdown",
   "metadata": {},
   "source": [
    "No initial issues were found from the visual assessment.\n",
    "\n",
    "#### Programmatic Assessment"
   ]
  },
  {
   "cell_type": "code",
   "execution_count": 100,
   "metadata": {},
   "outputs": [
    {
     "name": "stdout",
     "output_type": "stream",
     "text": [
      "<class 'pandas.core.frame.DataFrame'>\n",
      "RangeIndex: 2075 entries, 0 to 2074\n",
      "Data columns (total 12 columns):\n",
      "tweet_id    2075 non-null int64\n",
      "jpg_url     2075 non-null object\n",
      "img_num     2075 non-null int64\n",
      "p1          2075 non-null object\n",
      "p1_conf     2075 non-null float64\n",
      "p1_dog      2075 non-null bool\n",
      "p2          2075 non-null object\n",
      "p2_conf     2075 non-null float64\n",
      "p2_dog      2075 non-null bool\n",
      "p3          2075 non-null object\n",
      "p3_conf     2075 non-null float64\n",
      "p3_dog      2075 non-null bool\n",
      "dtypes: bool(3), float64(3), int64(2), object(4)\n",
      "memory usage: 152.1+ KB\n"
     ]
    }
   ],
   "source": [
    "# Check data types and null values\n",
    "image_predictions_df.info()"
   ]
  },
  {
   "cell_type": "code",
   "execution_count": 109,
   "metadata": {},
   "outputs": [
    {
     "data": {
      "text/plain": [
       "0"
      ]
     },
     "execution_count": 109,
     "metadata": {},
     "output_type": "execute_result"
    }
   ],
   "source": [
    "# Check for duplicates\n",
    "image_predictions_df.duplicated().sum()"
   ]
  },
  {
   "cell_type": "code",
   "execution_count": 131,
   "metadata": {},
   "outputs": [
    {
     "data": {
      "text/plain": [
       "1    1780\n",
       "2     198\n",
       "3      66\n",
       "4      31\n",
       "Name: img_num, dtype: int64"
      ]
     },
     "execution_count": 131,
     "metadata": {},
     "output_type": "execute_result"
    }
   ],
   "source": [
    "# Check values for each column\n",
    "image_predictions_df.iloc[:,2].value_counts()"
   ]
  },
  {
   "cell_type": "markdown",
   "metadata": {},
   "source": [
    "Possible issues determined from the programmatic assessment."
   ]
  },
  {
   "cell_type": "code",
   "execution_count": 138,
   "metadata": {},
   "outputs": [
    {
     "data": {
      "text/html": [
       "<div>\n",
       "<style scoped>\n",
       "    .dataframe tbody tr th:only-of-type {\n",
       "        vertical-align: middle;\n",
       "    }\n",
       "\n",
       "    .dataframe tbody tr th {\n",
       "        vertical-align: top;\n",
       "    }\n",
       "\n",
       "    .dataframe thead th {\n",
       "        text-align: right;\n",
       "    }\n",
       "</style>\n",
       "<table border=\"1\" class=\"dataframe\">\n",
       "  <thead>\n",
       "    <tr style=\"text-align: right;\">\n",
       "      <th></th>\n",
       "      <th>tweet_id</th>\n",
       "      <th>jpg_url</th>\n",
       "      <th>img_num</th>\n",
       "      <th>p1</th>\n",
       "      <th>p1_conf</th>\n",
       "      <th>p1_dog</th>\n",
       "      <th>p2</th>\n",
       "      <th>p2_conf</th>\n",
       "      <th>p2_dog</th>\n",
       "      <th>p3</th>\n",
       "      <th>p3_conf</th>\n",
       "      <th>p3_dog</th>\n",
       "    </tr>\n",
       "  </thead>\n",
       "  <tbody>\n",
       "  </tbody>\n",
       "</table>\n",
       "</div>"
      ],
      "text/plain": [
       "Empty DataFrame\n",
       "Columns: [tweet_id, jpg_url, img_num, p1, p1_conf, p1_dog, p2, p2_conf, p2_dog, p3, p3_conf, p3_dog]\n",
       "Index: []"
      ]
     },
     "execution_count": 138,
     "metadata": {},
     "output_type": "execute_result"
    }
   ],
   "source": [
    "# Check for impossible values on p1_conf, p2_conf, and p3_conf\n",
    "image_predictions_df.query('p1_conf > 1 or p1_conf < 0')\n",
    "image_predictions_df.query('p2_conf > 1 or p2_conf < 0')\n",
    "image_predictions_df.query('p3_conf > 1 or p3_conf < 0')"
   ]
  },
  {
   "cell_type": "markdown",
   "metadata": {},
   "source": [
    "### twitter_archive_additional_df\n",
    "\n",
    "#### Summary of Data Issues\n",
    "- Quality\n",
    "    - none\n",
    "- Tidiness\n",
    "    - retweet_count, favorite_count relate to columns in twitter_archive_df\n",
    "    \n",
    "#### Visual Assessment"
   ]
  },
  {
   "cell_type": "code",
   "execution_count": 651,
   "metadata": {},
   "outputs": [
    {
     "data": {
      "text/html": [
       "<div>\n",
       "<style scoped>\n",
       "    .dataframe tbody tr th:only-of-type {\n",
       "        vertical-align: middle;\n",
       "    }\n",
       "\n",
       "    .dataframe tbody tr th {\n",
       "        vertical-align: top;\n",
       "    }\n",
       "\n",
       "    .dataframe thead th {\n",
       "        text-align: right;\n",
       "    }\n",
       "</style>\n",
       "<table border=\"1\" class=\"dataframe\">\n",
       "  <thead>\n",
       "    <tr style=\"text-align: right;\">\n",
       "      <th></th>\n",
       "      <th>tweet_id</th>\n",
       "      <th>retweet_count</th>\n",
       "      <th>favorite_count</th>\n",
       "    </tr>\n",
       "  </thead>\n",
       "  <tbody>\n",
       "    <tr>\n",
       "      <th>0</th>\n",
       "      <td>876484053909872640</td>\n",
       "      <td>2434</td>\n",
       "      <td>18814</td>\n",
       "    </tr>\n",
       "    <tr>\n",
       "      <th>1</th>\n",
       "      <td>886366144734445568</td>\n",
       "      <td>3208</td>\n",
       "      <td>21159</td>\n",
       "    </tr>\n",
       "    <tr>\n",
       "      <th>2</th>\n",
       "      <td>877611172832227328</td>\n",
       "      <td>81</td>\n",
       "      <td>0</td>\n",
       "    </tr>\n",
       "    <tr>\n",
       "      <th>3</th>\n",
       "      <td>888078434458587136</td>\n",
       "      <td>3526</td>\n",
       "      <td>21778</td>\n",
       "    </tr>\n",
       "    <tr>\n",
       "      <th>4</th>\n",
       "      <td>891689557279858688</td>\n",
       "      <td>8713</td>\n",
       "      <td>42214</td>\n",
       "    </tr>\n",
       "  </tbody>\n",
       "</table>\n",
       "</div>"
      ],
      "text/plain": [
       "             tweet_id  retweet_count  favorite_count\n",
       "0  876484053909872640           2434           18814\n",
       "1  886366144734445568           3208           21159\n",
       "2  877611172832227328             81               0\n",
       "3  888078434458587136           3526           21778\n",
       "4  891689557279858688           8713           42214"
      ]
     },
     "execution_count": 651,
     "metadata": {},
     "output_type": "execute_result"
    }
   ],
   "source": [
    "# Visual assessment of twitter_archive_additional_df\n",
    "twitter_archive_additional_df.head()"
   ]
  },
  {
   "cell_type": "markdown",
   "metadata": {},
   "source": [
    "Issues determined from the visual assessment:\n",
    "- The retweet_count and favorite_count are related to columns in twitter_archive_df"
   ]
  },
  {
   "cell_type": "markdown",
   "metadata": {},
   "source": [
    "#### Programmatic Assessment"
   ]
  },
  {
   "cell_type": "code",
   "execution_count": 652,
   "metadata": {},
   "outputs": [
    {
     "name": "stdout",
     "output_type": "stream",
     "text": [
      "<class 'pandas.core.frame.DataFrame'>\n",
      "RangeIndex: 2345 entries, 0 to 2344\n",
      "Data columns (total 3 columns):\n",
      "tweet_id          2345 non-null int64\n",
      "retweet_count     2345 non-null int64\n",
      "favorite_count    2345 non-null int64\n",
      "dtypes: int64(3)\n",
      "memory usage: 55.0 KB\n"
     ]
    }
   ],
   "source": [
    "# Check data types and null values\n",
    "twitter_archive_additional_df.info()"
   ]
  },
  {
   "cell_type": "markdown",
   "metadata": {},
   "source": [
    "Issues determined from checking info:\n",
    "- twitter_archive_additional_df contains 2345 observations while twitter_archive_df contains 2356 observations."
   ]
  },
  {
   "cell_type": "code",
   "execution_count": 656,
   "metadata": {},
   "outputs": [
    {
     "data": {
      "text/plain": [
       "0"
      ]
     },
     "execution_count": 656,
     "metadata": {},
     "output_type": "execute_result"
    }
   ],
   "source": [
    "# Check for duplicates\n",
    "twitter_archive_additional_df.duplicated().sum()"
   ]
  },
  {
   "cell_type": "code",
   "execution_count": 660,
   "metadata": {
    "scrolled": true
   },
   "outputs": [
    {
     "data": {
      "text/plain": [
       "81       5\n",
       "669      4\n",
       "305      4\n",
       "679      4\n",
       "174      4\n",
       "1744     4\n",
       "248      4\n",
       "499      4\n",
       "391      4\n",
       "223      4\n",
       "736      4\n",
       "258      4\n",
       "459      4\n",
       "2091     4\n",
       "1308     4\n",
       "284      4\n",
       "2620     4\n",
       "272      4\n",
       "4894     3\n",
       "1362     3\n",
       "1195     3\n",
       "1290     3\n",
       "1090     3\n",
       "93       3\n",
       "1084     3\n",
       "198      3\n",
       "617      3\n",
       "141      3\n",
       "7969     3\n",
       "1284     3\n",
       "        ..\n",
       "367      1\n",
       "369      1\n",
       "2424     1\n",
       "24337    1\n",
       "1294     1\n",
       "2434     1\n",
       "8583     1\n",
       "2366     1\n",
       "2362     1\n",
       "239      1\n",
       "269      1\n",
       "243      1\n",
       "245      1\n",
       "247      1\n",
       "4349     1\n",
       "10494    1\n",
       "4353     1\n",
       "4355     1\n",
       "1470     1\n",
       "273      1\n",
       "2360     1\n",
       "2324     1\n",
       "283      1\n",
       "18716    1\n",
       "6448     1\n",
       "2344     1\n",
       "8489     1\n",
       "303      1\n",
       "26928    1\n",
       "0        1\n",
       "Name: retweet_count, Length: 1717, dtype: int64"
      ]
     },
     "execution_count": 660,
     "metadata": {},
     "output_type": "execute_result"
    }
   ],
   "source": [
    "# Check values for each column\n",
    "twitter_archive_additional_df.iloc[:,1].value_counts()"
   ]
  },
  {
   "cell_type": "markdown",
   "metadata": {},
   "source": [
    "All values appear accurate/consistent"
   ]
  },
  {
   "cell_type": "markdown",
   "metadata": {},
   "source": [
    "## Clean\n",
    "\n",
    "### twitter_archive_df\n",
    "\n",
    "#### Summary of Data Issues\n",
    "- Quality\n",
    "    - shrink dog stage columns (doggo, floofer, pupper, and puppo columns.)\n",
    "    - change timestamp datatype from object to datetime\n",
    "    - check/modify any incorrect rating_numerator values\n",
    "    - check/modify any incorrect rating_denominator values\n",
    "    - check/modify any incorrect name values like 'a', 'the', 'an'\n",
    "- Tidiness\n",
    "    - remove replies\n",
    "    - remove retweets\n",
    "    - join twitter_archive_additional_df"
   ]
  },
  {
   "cell_type": "code",
   "execution_count": 1294,
   "metadata": {},
   "outputs": [],
   "source": [
    "# Make copy of twitter_archive_df\n",
    "twitter_archive_df_clean = twitter_archive_df.copy()\n",
    "# Make copy of twitter_archive_additional_df\n",
    "twitter_archive_additional_df_clean = twitter_archive_additional_df.copy()"
   ]
  },
  {
   "cell_type": "markdown",
   "metadata": {},
   "source": [
    "#### Replies\n",
    "\n",
    "##### Define\n",
    "- Remove replies\n",
    "- Remove in_reply_to_status_id and in_reply_to_user_id columns\n",
    "\n",
    "##### Code"
   ]
  },
  {
   "cell_type": "code",
   "execution_count": 1295,
   "metadata": {},
   "outputs": [],
   "source": [
    "# Remove observations with in_reply_to_status_id or in_reply_to_user_id columns\n",
    "twitter_archive_df_clean = twitter_archive_df_clean[twitter_archive_df_clean.in_reply_to_status_id.isnull()]\n",
    "# Drop in_reply_to_status_id and in_reply_to_user_id columns\n",
    "twitter_archive_df_clean.drop(axis=1, columns=['in_reply_to_status_id', 'in_reply_to_user_id'], inplace=True)"
   ]
  },
  {
   "cell_type": "markdown",
   "metadata": {},
   "source": [
    "##### Test"
   ]
  },
  {
   "cell_type": "code",
   "execution_count": 1296,
   "metadata": {
    "scrolled": true
   },
   "outputs": [
    {
     "data": {
      "text/html": [
       "<div>\n",
       "<style scoped>\n",
       "    .dataframe tbody tr th:only-of-type {\n",
       "        vertical-align: middle;\n",
       "    }\n",
       "\n",
       "    .dataframe tbody tr th {\n",
       "        vertical-align: top;\n",
       "    }\n",
       "\n",
       "    .dataframe thead th {\n",
       "        text-align: right;\n",
       "    }\n",
       "</style>\n",
       "<table border=\"1\" class=\"dataframe\">\n",
       "  <thead>\n",
       "    <tr style=\"text-align: right;\">\n",
       "      <th></th>\n",
       "      <th>tweet_id</th>\n",
       "      <th>timestamp</th>\n",
       "      <th>source</th>\n",
       "      <th>text</th>\n",
       "      <th>retweeted_status_id</th>\n",
       "      <th>retweeted_status_user_id</th>\n",
       "      <th>retweeted_status_timestamp</th>\n",
       "      <th>expanded_urls</th>\n",
       "      <th>rating_numerator</th>\n",
       "      <th>rating_denominator</th>\n",
       "      <th>name</th>\n",
       "      <th>doggo</th>\n",
       "      <th>floofer</th>\n",
       "      <th>pupper</th>\n",
       "      <th>puppo</th>\n",
       "    </tr>\n",
       "  </thead>\n",
       "  <tbody>\n",
       "    <tr>\n",
       "      <th>0</th>\n",
       "      <td>892420643555336193</td>\n",
       "      <td>2017-08-01 16:23:56 +0000</td>\n",
       "      <td>&lt;a href=\"http://twitter.com/download/iphone\" r...</td>\n",
       "      <td>This is Phineas. He's a mystical boy. Only eve...</td>\n",
       "      <td>NaN</td>\n",
       "      <td>NaN</td>\n",
       "      <td>NaN</td>\n",
       "      <td>https://twitter.com/dog_rates/status/892420643...</td>\n",
       "      <td>13</td>\n",
       "      <td>10</td>\n",
       "      <td>Phineas</td>\n",
       "      <td>None</td>\n",
       "      <td>None</td>\n",
       "      <td>None</td>\n",
       "      <td>None</td>\n",
       "    </tr>\n",
       "    <tr>\n",
       "      <th>1</th>\n",
       "      <td>892177421306343426</td>\n",
       "      <td>2017-08-01 00:17:27 +0000</td>\n",
       "      <td>&lt;a href=\"http://twitter.com/download/iphone\" r...</td>\n",
       "      <td>This is Tilly. She's just checking pup on you....</td>\n",
       "      <td>NaN</td>\n",
       "      <td>NaN</td>\n",
       "      <td>NaN</td>\n",
       "      <td>https://twitter.com/dog_rates/status/892177421...</td>\n",
       "      <td>13</td>\n",
       "      <td>10</td>\n",
       "      <td>Tilly</td>\n",
       "      <td>None</td>\n",
       "      <td>None</td>\n",
       "      <td>None</td>\n",
       "      <td>None</td>\n",
       "    </tr>\n",
       "    <tr>\n",
       "      <th>2</th>\n",
       "      <td>891815181378084864</td>\n",
       "      <td>2017-07-31 00:18:03 +0000</td>\n",
       "      <td>&lt;a href=\"http://twitter.com/download/iphone\" r...</td>\n",
       "      <td>This is Archie. He is a rare Norwegian Pouncin...</td>\n",
       "      <td>NaN</td>\n",
       "      <td>NaN</td>\n",
       "      <td>NaN</td>\n",
       "      <td>https://twitter.com/dog_rates/status/891815181...</td>\n",
       "      <td>12</td>\n",
       "      <td>10</td>\n",
       "      <td>Archie</td>\n",
       "      <td>None</td>\n",
       "      <td>None</td>\n",
       "      <td>None</td>\n",
       "      <td>None</td>\n",
       "    </tr>\n",
       "    <tr>\n",
       "      <th>3</th>\n",
       "      <td>891689557279858688</td>\n",
       "      <td>2017-07-30 15:58:51 +0000</td>\n",
       "      <td>&lt;a href=\"http://twitter.com/download/iphone\" r...</td>\n",
       "      <td>This is Darla. She commenced a snooze mid meal...</td>\n",
       "      <td>NaN</td>\n",
       "      <td>NaN</td>\n",
       "      <td>NaN</td>\n",
       "      <td>https://twitter.com/dog_rates/status/891689557...</td>\n",
       "      <td>13</td>\n",
       "      <td>10</td>\n",
       "      <td>Darla</td>\n",
       "      <td>None</td>\n",
       "      <td>None</td>\n",
       "      <td>None</td>\n",
       "      <td>None</td>\n",
       "    </tr>\n",
       "    <tr>\n",
       "      <th>4</th>\n",
       "      <td>891327558926688256</td>\n",
       "      <td>2017-07-29 16:00:24 +0000</td>\n",
       "      <td>&lt;a href=\"http://twitter.com/download/iphone\" r...</td>\n",
       "      <td>This is Franklin. He would like you to stop ca...</td>\n",
       "      <td>NaN</td>\n",
       "      <td>NaN</td>\n",
       "      <td>NaN</td>\n",
       "      <td>https://twitter.com/dog_rates/status/891327558...</td>\n",
       "      <td>12</td>\n",
       "      <td>10</td>\n",
       "      <td>Franklin</td>\n",
       "      <td>None</td>\n",
       "      <td>None</td>\n",
       "      <td>None</td>\n",
       "      <td>None</td>\n",
       "    </tr>\n",
       "  </tbody>\n",
       "</table>\n",
       "</div>"
      ],
      "text/plain": [
       "             tweet_id                  timestamp  \\\n",
       "0  892420643555336193  2017-08-01 16:23:56 +0000   \n",
       "1  892177421306343426  2017-08-01 00:17:27 +0000   \n",
       "2  891815181378084864  2017-07-31 00:18:03 +0000   \n",
       "3  891689557279858688  2017-07-30 15:58:51 +0000   \n",
       "4  891327558926688256  2017-07-29 16:00:24 +0000   \n",
       "\n",
       "                                              source  \\\n",
       "0  <a href=\"http://twitter.com/download/iphone\" r...   \n",
       "1  <a href=\"http://twitter.com/download/iphone\" r...   \n",
       "2  <a href=\"http://twitter.com/download/iphone\" r...   \n",
       "3  <a href=\"http://twitter.com/download/iphone\" r...   \n",
       "4  <a href=\"http://twitter.com/download/iphone\" r...   \n",
       "\n",
       "                                                text  retweeted_status_id  \\\n",
       "0  This is Phineas. He's a mystical boy. Only eve...                  NaN   \n",
       "1  This is Tilly. She's just checking pup on you....                  NaN   \n",
       "2  This is Archie. He is a rare Norwegian Pouncin...                  NaN   \n",
       "3  This is Darla. She commenced a snooze mid meal...                  NaN   \n",
       "4  This is Franklin. He would like you to stop ca...                  NaN   \n",
       "\n",
       "   retweeted_status_user_id retweeted_status_timestamp  \\\n",
       "0                       NaN                        NaN   \n",
       "1                       NaN                        NaN   \n",
       "2                       NaN                        NaN   \n",
       "3                       NaN                        NaN   \n",
       "4                       NaN                        NaN   \n",
       "\n",
       "                                       expanded_urls  rating_numerator  \\\n",
       "0  https://twitter.com/dog_rates/status/892420643...                13   \n",
       "1  https://twitter.com/dog_rates/status/892177421...                13   \n",
       "2  https://twitter.com/dog_rates/status/891815181...                12   \n",
       "3  https://twitter.com/dog_rates/status/891689557...                13   \n",
       "4  https://twitter.com/dog_rates/status/891327558...                12   \n",
       "\n",
       "   rating_denominator      name doggo floofer pupper puppo  \n",
       "0                  10   Phineas  None    None   None  None  \n",
       "1                  10     Tilly  None    None   None  None  \n",
       "2                  10    Archie  None    None   None  None  \n",
       "3                  10     Darla  None    None   None  None  \n",
       "4                  10  Franklin  None    None   None  None  "
      ]
     },
     "execution_count": 1296,
     "metadata": {},
     "output_type": "execute_result"
    }
   ],
   "source": [
    "# Check that in_reply_to_status_id and in_reply_to_user_id columns dropped\n",
    "twitter_archive_df_clean.head()"
   ]
  },
  {
   "cell_type": "markdown",
   "metadata": {},
   "source": [
    "#### Retweets\n",
    "\n",
    "##### Define\n",
    "- Remove retweets\n",
    "- Remove retweeted_status_id, retweeted_status_user_id, retweeted_status_timestamp columns\n",
    "\n",
    "##### Code"
   ]
  },
  {
   "cell_type": "code",
   "execution_count": 1297,
   "metadata": {},
   "outputs": [],
   "source": [
    "# Remove observations with retweeted_status_id, retweeted_status_user_id, or retweeted_status_timestamp\n",
    "twitter_archive_df_clean = twitter_archive_df_clean[twitter_archive_df_clean.retweeted_status_id.isnull()]\n",
    "# Drop retweeted_status_id, retweeted_status_user_id, retweeted_status_timestamp columns\n",
    "twitter_archive_df_clean.drop(axis=1, columns=['retweeted_status_id', 'retweeted_status_user_id', 'retweeted_status_timestamp'], inplace=True)"
   ]
  },
  {
   "cell_type": "markdown",
   "metadata": {},
   "source": [
    "##### Test"
   ]
  },
  {
   "cell_type": "code",
   "execution_count": 1298,
   "metadata": {},
   "outputs": [
    {
     "data": {
      "text/html": [
       "<div>\n",
       "<style scoped>\n",
       "    .dataframe tbody tr th:only-of-type {\n",
       "        vertical-align: middle;\n",
       "    }\n",
       "\n",
       "    .dataframe tbody tr th {\n",
       "        vertical-align: top;\n",
       "    }\n",
       "\n",
       "    .dataframe thead th {\n",
       "        text-align: right;\n",
       "    }\n",
       "</style>\n",
       "<table border=\"1\" class=\"dataframe\">\n",
       "  <thead>\n",
       "    <tr style=\"text-align: right;\">\n",
       "      <th></th>\n",
       "      <th>tweet_id</th>\n",
       "      <th>timestamp</th>\n",
       "      <th>source</th>\n",
       "      <th>text</th>\n",
       "      <th>expanded_urls</th>\n",
       "      <th>rating_numerator</th>\n",
       "      <th>rating_denominator</th>\n",
       "      <th>name</th>\n",
       "      <th>doggo</th>\n",
       "      <th>floofer</th>\n",
       "      <th>pupper</th>\n",
       "      <th>puppo</th>\n",
       "    </tr>\n",
       "  </thead>\n",
       "  <tbody>\n",
       "    <tr>\n",
       "      <th>0</th>\n",
       "      <td>892420643555336193</td>\n",
       "      <td>2017-08-01 16:23:56 +0000</td>\n",
       "      <td>&lt;a href=\"http://twitter.com/download/iphone\" r...</td>\n",
       "      <td>This is Phineas. He's a mystical boy. Only eve...</td>\n",
       "      <td>https://twitter.com/dog_rates/status/892420643...</td>\n",
       "      <td>13</td>\n",
       "      <td>10</td>\n",
       "      <td>Phineas</td>\n",
       "      <td>None</td>\n",
       "      <td>None</td>\n",
       "      <td>None</td>\n",
       "      <td>None</td>\n",
       "    </tr>\n",
       "    <tr>\n",
       "      <th>1</th>\n",
       "      <td>892177421306343426</td>\n",
       "      <td>2017-08-01 00:17:27 +0000</td>\n",
       "      <td>&lt;a href=\"http://twitter.com/download/iphone\" r...</td>\n",
       "      <td>This is Tilly. She's just checking pup on you....</td>\n",
       "      <td>https://twitter.com/dog_rates/status/892177421...</td>\n",
       "      <td>13</td>\n",
       "      <td>10</td>\n",
       "      <td>Tilly</td>\n",
       "      <td>None</td>\n",
       "      <td>None</td>\n",
       "      <td>None</td>\n",
       "      <td>None</td>\n",
       "    </tr>\n",
       "    <tr>\n",
       "      <th>2</th>\n",
       "      <td>891815181378084864</td>\n",
       "      <td>2017-07-31 00:18:03 +0000</td>\n",
       "      <td>&lt;a href=\"http://twitter.com/download/iphone\" r...</td>\n",
       "      <td>This is Archie. He is a rare Norwegian Pouncin...</td>\n",
       "      <td>https://twitter.com/dog_rates/status/891815181...</td>\n",
       "      <td>12</td>\n",
       "      <td>10</td>\n",
       "      <td>Archie</td>\n",
       "      <td>None</td>\n",
       "      <td>None</td>\n",
       "      <td>None</td>\n",
       "      <td>None</td>\n",
       "    </tr>\n",
       "    <tr>\n",
       "      <th>3</th>\n",
       "      <td>891689557279858688</td>\n",
       "      <td>2017-07-30 15:58:51 +0000</td>\n",
       "      <td>&lt;a href=\"http://twitter.com/download/iphone\" r...</td>\n",
       "      <td>This is Darla. She commenced a snooze mid meal...</td>\n",
       "      <td>https://twitter.com/dog_rates/status/891689557...</td>\n",
       "      <td>13</td>\n",
       "      <td>10</td>\n",
       "      <td>Darla</td>\n",
       "      <td>None</td>\n",
       "      <td>None</td>\n",
       "      <td>None</td>\n",
       "      <td>None</td>\n",
       "    </tr>\n",
       "    <tr>\n",
       "      <th>4</th>\n",
       "      <td>891327558926688256</td>\n",
       "      <td>2017-07-29 16:00:24 +0000</td>\n",
       "      <td>&lt;a href=\"http://twitter.com/download/iphone\" r...</td>\n",
       "      <td>This is Franklin. He would like you to stop ca...</td>\n",
       "      <td>https://twitter.com/dog_rates/status/891327558...</td>\n",
       "      <td>12</td>\n",
       "      <td>10</td>\n",
       "      <td>Franklin</td>\n",
       "      <td>None</td>\n",
       "      <td>None</td>\n",
       "      <td>None</td>\n",
       "      <td>None</td>\n",
       "    </tr>\n",
       "  </tbody>\n",
       "</table>\n",
       "</div>"
      ],
      "text/plain": [
       "             tweet_id                  timestamp  \\\n",
       "0  892420643555336193  2017-08-01 16:23:56 +0000   \n",
       "1  892177421306343426  2017-08-01 00:17:27 +0000   \n",
       "2  891815181378084864  2017-07-31 00:18:03 +0000   \n",
       "3  891689557279858688  2017-07-30 15:58:51 +0000   \n",
       "4  891327558926688256  2017-07-29 16:00:24 +0000   \n",
       "\n",
       "                                              source  \\\n",
       "0  <a href=\"http://twitter.com/download/iphone\" r...   \n",
       "1  <a href=\"http://twitter.com/download/iphone\" r...   \n",
       "2  <a href=\"http://twitter.com/download/iphone\" r...   \n",
       "3  <a href=\"http://twitter.com/download/iphone\" r...   \n",
       "4  <a href=\"http://twitter.com/download/iphone\" r...   \n",
       "\n",
       "                                                text  \\\n",
       "0  This is Phineas. He's a mystical boy. Only eve...   \n",
       "1  This is Tilly. She's just checking pup on you....   \n",
       "2  This is Archie. He is a rare Norwegian Pouncin...   \n",
       "3  This is Darla. She commenced a snooze mid meal...   \n",
       "4  This is Franklin. He would like you to stop ca...   \n",
       "\n",
       "                                       expanded_urls  rating_numerator  \\\n",
       "0  https://twitter.com/dog_rates/status/892420643...                13   \n",
       "1  https://twitter.com/dog_rates/status/892177421...                13   \n",
       "2  https://twitter.com/dog_rates/status/891815181...                12   \n",
       "3  https://twitter.com/dog_rates/status/891689557...                13   \n",
       "4  https://twitter.com/dog_rates/status/891327558...                12   \n",
       "\n",
       "   rating_denominator      name doggo floofer pupper puppo  \n",
       "0                  10   Phineas  None    None   None  None  \n",
       "1                  10     Tilly  None    None   None  None  \n",
       "2                  10    Archie  None    None   None  None  \n",
       "3                  10     Darla  None    None   None  None  \n",
       "4                  10  Franklin  None    None   None  None  "
      ]
     },
     "execution_count": 1298,
     "metadata": {},
     "output_type": "execute_result"
    }
   ],
   "source": [
    "# Check that retweeted_status_id, retweeted_status_user_id, retweeted_status_timestamp columns dropped\n",
    "twitter_archive_df_clean.head()"
   ]
  },
  {
   "cell_type": "markdown",
   "metadata": {},
   "source": [
    "#### Join twitter_archive_df and twitter_archive_additional_df\n",
    "\n",
    "##### Define\n",
    "Join twitter_archive_df_clean and twitter_archive_additional_df_clean on tweet_id\n",
    "\n",
    "##### Code"
   ]
  },
  {
   "cell_type": "code",
   "execution_count": 1299,
   "metadata": {},
   "outputs": [],
   "source": [
    "# Join twitter_archive_df_clean and twitter_archive_additional_df_clean\n",
    "twitter_archive_df_clean = twitter_archive_df_clean.join(twitter_archive_additional_df_clean, rsuffix='_right')\n",
    "# Drop tweet_id_right column\n",
    "twitter_archive_df_clean.drop(index=1, columns=['tweet_id_right'], inplace=True)"
   ]
  },
  {
   "cell_type": "markdown",
   "metadata": {},
   "source": [
    "##### Test"
   ]
  },
  {
   "cell_type": "code",
   "execution_count": 1300,
   "metadata": {},
   "outputs": [
    {
     "data": {
      "text/html": [
       "<div>\n",
       "<style scoped>\n",
       "    .dataframe tbody tr th:only-of-type {\n",
       "        vertical-align: middle;\n",
       "    }\n",
       "\n",
       "    .dataframe tbody tr th {\n",
       "        vertical-align: top;\n",
       "    }\n",
       "\n",
       "    .dataframe thead th {\n",
       "        text-align: right;\n",
       "    }\n",
       "</style>\n",
       "<table border=\"1\" class=\"dataframe\">\n",
       "  <thead>\n",
       "    <tr style=\"text-align: right;\">\n",
       "      <th></th>\n",
       "      <th>tweet_id</th>\n",
       "      <th>timestamp</th>\n",
       "      <th>source</th>\n",
       "      <th>text</th>\n",
       "      <th>expanded_urls</th>\n",
       "      <th>rating_numerator</th>\n",
       "      <th>rating_denominator</th>\n",
       "      <th>name</th>\n",
       "      <th>doggo</th>\n",
       "      <th>floofer</th>\n",
       "      <th>pupper</th>\n",
       "      <th>puppo</th>\n",
       "      <th>retweet_count</th>\n",
       "      <th>favorite_count</th>\n",
       "    </tr>\n",
       "  </thead>\n",
       "  <tbody>\n",
       "    <tr>\n",
       "      <th>0</th>\n",
       "      <td>892420643555336193</td>\n",
       "      <td>2017-08-01 16:23:56 +0000</td>\n",
       "      <td>&lt;a href=\"http://twitter.com/download/iphone\" r...</td>\n",
       "      <td>This is Phineas. He's a mystical boy. Only eve...</td>\n",
       "      <td>https://twitter.com/dog_rates/status/892420643...</td>\n",
       "      <td>13</td>\n",
       "      <td>10</td>\n",
       "      <td>Phineas</td>\n",
       "      <td>None</td>\n",
       "      <td>None</td>\n",
       "      <td>None</td>\n",
       "      <td>None</td>\n",
       "      <td>2434.0</td>\n",
       "      <td>18814.0</td>\n",
       "    </tr>\n",
       "    <tr>\n",
       "      <th>2</th>\n",
       "      <td>891815181378084864</td>\n",
       "      <td>2017-07-31 00:18:03 +0000</td>\n",
       "      <td>&lt;a href=\"http://twitter.com/download/iphone\" r...</td>\n",
       "      <td>This is Archie. He is a rare Norwegian Pouncin...</td>\n",
       "      <td>https://twitter.com/dog_rates/status/891815181...</td>\n",
       "      <td>12</td>\n",
       "      <td>10</td>\n",
       "      <td>Archie</td>\n",
       "      <td>None</td>\n",
       "      <td>None</td>\n",
       "      <td>None</td>\n",
       "      <td>None</td>\n",
       "      <td>81.0</td>\n",
       "      <td>0.0</td>\n",
       "    </tr>\n",
       "    <tr>\n",
       "      <th>3</th>\n",
       "      <td>891689557279858688</td>\n",
       "      <td>2017-07-30 15:58:51 +0000</td>\n",
       "      <td>&lt;a href=\"http://twitter.com/download/iphone\" r...</td>\n",
       "      <td>This is Darla. She commenced a snooze mid meal...</td>\n",
       "      <td>https://twitter.com/dog_rates/status/891689557...</td>\n",
       "      <td>13</td>\n",
       "      <td>10</td>\n",
       "      <td>Darla</td>\n",
       "      <td>None</td>\n",
       "      <td>None</td>\n",
       "      <td>None</td>\n",
       "      <td>None</td>\n",
       "      <td>3526.0</td>\n",
       "      <td>21778.0</td>\n",
       "    </tr>\n",
       "    <tr>\n",
       "      <th>4</th>\n",
       "      <td>891327558926688256</td>\n",
       "      <td>2017-07-29 16:00:24 +0000</td>\n",
       "      <td>&lt;a href=\"http://twitter.com/download/iphone\" r...</td>\n",
       "      <td>This is Franklin. He would like you to stop ca...</td>\n",
       "      <td>https://twitter.com/dog_rates/status/891327558...</td>\n",
       "      <td>12</td>\n",
       "      <td>10</td>\n",
       "      <td>Franklin</td>\n",
       "      <td>None</td>\n",
       "      <td>None</td>\n",
       "      <td>None</td>\n",
       "      <td>None</td>\n",
       "      <td>8713.0</td>\n",
       "      <td>42214.0</td>\n",
       "    </tr>\n",
       "    <tr>\n",
       "      <th>5</th>\n",
       "      <td>891087950875897856</td>\n",
       "      <td>2017-07-29 00:08:17 +0000</td>\n",
       "      <td>&lt;a href=\"http://twitter.com/download/iphone\" r...</td>\n",
       "      <td>Here we have a majestic great white breaching ...</td>\n",
       "      <td>https://twitter.com/dog_rates/status/891087950...</td>\n",
       "      <td>13</td>\n",
       "      <td>10</td>\n",
       "      <td>None</td>\n",
       "      <td>None</td>\n",
       "      <td>None</td>\n",
       "      <td>None</td>\n",
       "      <td>None</td>\n",
       "      <td>3219.0</td>\n",
       "      <td>23436.0</td>\n",
       "    </tr>\n",
       "  </tbody>\n",
       "</table>\n",
       "</div>"
      ],
      "text/plain": [
       "             tweet_id                  timestamp  \\\n",
       "0  892420643555336193  2017-08-01 16:23:56 +0000   \n",
       "2  891815181378084864  2017-07-31 00:18:03 +0000   \n",
       "3  891689557279858688  2017-07-30 15:58:51 +0000   \n",
       "4  891327558926688256  2017-07-29 16:00:24 +0000   \n",
       "5  891087950875897856  2017-07-29 00:08:17 +0000   \n",
       "\n",
       "                                              source  \\\n",
       "0  <a href=\"http://twitter.com/download/iphone\" r...   \n",
       "2  <a href=\"http://twitter.com/download/iphone\" r...   \n",
       "3  <a href=\"http://twitter.com/download/iphone\" r...   \n",
       "4  <a href=\"http://twitter.com/download/iphone\" r...   \n",
       "5  <a href=\"http://twitter.com/download/iphone\" r...   \n",
       "\n",
       "                                                text  \\\n",
       "0  This is Phineas. He's a mystical boy. Only eve...   \n",
       "2  This is Archie. He is a rare Norwegian Pouncin...   \n",
       "3  This is Darla. She commenced a snooze mid meal...   \n",
       "4  This is Franklin. He would like you to stop ca...   \n",
       "5  Here we have a majestic great white breaching ...   \n",
       "\n",
       "                                       expanded_urls  rating_numerator  \\\n",
       "0  https://twitter.com/dog_rates/status/892420643...                13   \n",
       "2  https://twitter.com/dog_rates/status/891815181...                12   \n",
       "3  https://twitter.com/dog_rates/status/891689557...                13   \n",
       "4  https://twitter.com/dog_rates/status/891327558...                12   \n",
       "5  https://twitter.com/dog_rates/status/891087950...                13   \n",
       "\n",
       "   rating_denominator      name doggo floofer pupper puppo  retweet_count  \\\n",
       "0                  10   Phineas  None    None   None  None         2434.0   \n",
       "2                  10    Archie  None    None   None  None           81.0   \n",
       "3                  10     Darla  None    None   None  None         3526.0   \n",
       "4                  10  Franklin  None    None   None  None         8713.0   \n",
       "5                  10      None  None    None   None  None         3219.0   \n",
       "\n",
       "   favorite_count  \n",
       "0         18814.0  \n",
       "2             0.0  \n",
       "3         21778.0  \n",
       "4         42214.0  \n",
       "5         23436.0  "
      ]
     },
     "execution_count": 1300,
     "metadata": {},
     "output_type": "execute_result"
    }
   ],
   "source": [
    "# Check that retweet_count and favorite_count were added, tweet_id_right was dropped\n",
    "twitter_archive_df_clean.head()\n",
    "\n",
    "# Check values for retweet_count and favorite_count\n",
    "# twitter_archive_df_clean.retweet_count.value_counts()\n",
    "# twitter_archive_df_clean.favorite_count.value_counts()"
   ]
  },
  {
   "cell_type": "markdown",
   "metadata": {},
   "source": [
    "#### Stage Column\n",
    "\n",
    "##### Define\n",
    "- Remove 'None' values in doggo, floofer, pupper, and puppo columns.\n",
    "- Shrink dog stage columns (doggo, floofer, pupper, and puppo) to one stage column with doggo, floofer, pupper, and puppo as values.\n",
    "\n",
    "##### Code"
   ]
  },
  {
   "cell_type": "code",
   "execution_count": 1301,
   "metadata": {},
   "outputs": [],
   "source": [
    "# Shrink doggo, floofer, pupper, and puppo columns to one stage column\n",
    "twitter_archive_df_clean['stage'] = (twitter_archive_df_clean.doggo + twitter_archive_df_clean.floofer + twitter_archive_df_clean.pupper + twitter_archive_df_clean.puppo).apply(lambda x: x.replace('None',''))\n",
    "# Drop doggo, floofer, pupper, and puppo columns\n",
    "twitter_archive_df_clean.drop(axis=1, columns=['doggo','floofer','pupper','puppo'], inplace=True)"
   ]
  },
  {
   "cell_type": "markdown",
   "metadata": {},
   "source": [
    "##### Test"
   ]
  },
  {
   "cell_type": "code",
   "execution_count": 1302,
   "metadata": {
    "scrolled": true
   },
   "outputs": [
    {
     "data": {
      "text/plain": [
       "                1760\n",
       "pupper           221\n",
       "doggo             72\n",
       "puppo             23\n",
       "floofer            9\n",
       "doggopupper        9\n",
       "doggofloofer       1\n",
       "doggopuppo         1\n",
       "Name: stage, dtype: int64"
      ]
     },
     "execution_count": 1302,
     "metadata": {},
     "output_type": "execute_result"
    }
   ],
   "source": [
    "# Check that stage column was created and doggo, floofer, pupper, and puppo were removed\n",
    "twitter_archive_df_clean\n",
    "\n",
    "# Check values in stage column\n",
    "twitter_archive_df_clean.stage.value_counts()"
   ]
  },
  {
   "cell_type": "markdown",
   "metadata": {},
   "source": [
    "Unexpectedly, there are multiple observations with more than one category. I will leave this for now, but if my data visualizations require it, might expand these values to two columns (stage_1, stage_2)."
   ]
  },
  {
   "cell_type": "markdown",
   "metadata": {},
   "source": [
    "#### timestamp data types\n",
    "\n",
    "##### Define\n",
    "- Change timestamp datatype from object to datetime\n",
    "\n",
    "##### Code"
   ]
  },
  {
   "cell_type": "code",
   "execution_count": 1303,
   "metadata": {},
   "outputs": [],
   "source": [
    "# change timestamp data type from object to datetime\n",
    "twitter_archive_df_clean.loc[:,['timestamp']] = twitter_archive_df_clean.loc[:,['timestamp']].applymap(lambda x: pd.Timestamp(x))"
   ]
  },
  {
   "cell_type": "markdown",
   "metadata": {},
   "source": [
    "##### Test"
   ]
  },
  {
   "cell_type": "code",
   "execution_count": 1304,
   "metadata": {
    "scrolled": true
   },
   "outputs": [
    {
     "name": "stdout",
     "output_type": "stream",
     "text": [
      "<class 'pandas.core.frame.DataFrame'>\n",
      "Int64Index: 2096 entries, 0 to 2355\n",
      "Data columns (total 11 columns):\n",
      "tweet_id              2096 non-null int64\n",
      "timestamp             2096 non-null datetime64[ns, UTC]\n",
      "source                2096 non-null object\n",
      "text                  2096 non-null object\n",
      "expanded_urls         2093 non-null object\n",
      "rating_numerator      2096 non-null int64\n",
      "rating_denominator    2096 non-null int64\n",
      "name                  2096 non-null object\n",
      "retweet_count         2085 non-null float64\n",
      "favorite_count        2085 non-null float64\n",
      "stage                 2096 non-null object\n",
      "dtypes: datetime64[ns, UTC](1), float64(2), int64(3), object(5)\n",
      "memory usage: 196.5+ KB\n"
     ]
    }
   ],
   "source": [
    "# Check timestamp, retweeted_status_timestamp data types\n",
    "twitter_archive_df_clean.info()"
   ]
  },
  {
   "cell_type": "markdown",
   "metadata": {},
   "source": [
    "#### rating_numerator values\n",
    "\n",
    "##### Define\n",
    "- check/modify any incorrect rating_numerator values\n",
    "\n",
    "##### Code"
   ]
  },
  {
   "cell_type": "code",
   "execution_count": 1305,
   "metadata": {
    "scrolled": true
   },
   "outputs": [
    {
     "data": {
      "text/plain": [
       "12      486\n",
       "10      436\n",
       "11      413\n",
       "13      286\n",
       "9       153\n",
       "8        98\n",
       "7        52\n",
       "14       38\n",
       "5        34\n",
       "6        32\n",
       "3        19\n",
       "4        16\n",
       "2         9\n",
       "1         5\n",
       "26        1\n",
       "44        1\n",
       "165       1\n",
       "24        1\n",
       "60        1\n",
       "50        1\n",
       "144       1\n",
       "80        1\n",
       "84        1\n",
       "88        1\n",
       "121       1\n",
       "204       1\n",
       "420       1\n",
       "1776      1\n",
       "27        1\n",
       "45        1\n",
       "75        1\n",
       "99        1\n",
       "0         1\n",
       "Name: rating_numerator, dtype: int64"
      ]
     },
     "execution_count": 1305,
     "metadata": {},
     "output_type": "execute_result"
    }
   ],
   "source": [
    "# Check rating_numerator values\n",
    "twitter_archive_df_clean.rating_numerator.value_counts()"
   ]
  },
  {
   "cell_type": "code",
   "execution_count": 1306,
   "metadata": {
    "scrolled": true
   },
   "outputs": [
    {
     "name": "stdout",
     "output_type": "stream",
     "text": [
      "Numerator: 26\n",
      "https://twitter.com/dog_rates/status/680494726643068929/photo/1\n",
      "Numerator: 44\n",
      "https://twitter.com/dog_rates/status/697463031882764288/photo/1\n",
      "Numerator: 165\n",
      "https://twitter.com/dog_rates/status/758467244762497024/video/1\n",
      "Numerator: 24\n",
      "https://www.gofundme.com/sams-smile,https://twitter.com/dog_rates/status/810984652412424192/photo/1\n",
      "Numerator: 60\n",
      "https://twitter.com/dog_rates/status/704054845121142784/photo/1\n",
      "Numerator: 50\n",
      "https://twitter.com/dog_rates/status/716439118184652801/photo/1\n",
      "Numerator: 144\n",
      "https://twitter.com/dog_rates/status/677716515794329600/photo/1\n",
      "Numerator: 80\n",
      "https://twitter.com/dog_rates/status/710658690886586372/photo/1\n",
      "Numerator: 84\n",
      "https://twitter.com/dog_rates/status/820690176645140481/photo/1,https://twitter.com/dog_rates/status/820690176645140481/photo/1,https://twitter.com/dog_rates/status/820690176645140481/photo/1\n",
      "Numerator: 88\n",
      "https://twitter.com/dog_rates/status/675853064436391936/photo/1,https://twitter.com/dog_rates/status/675853064436391936/photo/1\n",
      "Numerator: 121\n",
      "https://twitter.com/dog_rates/status/684222868335505415/photo/1\n",
      "Numerator: 204\n",
      "https://twitter.com/dog_rates/status/731156023742988288/photo/1\n",
      "Numerator: 420\n",
      "https://twitter.com/dog_rates/status/670842764863651840/photo/1\n",
      "Numerator: 1776\n",
      "https://twitter.com/dog_rates/status/749981277374128128/photo/1\n",
      "Numerator: 27\n",
      "https://twitter.com/dog_rates/status/778027034220126208/photo/1\n",
      "Numerator: 45\n",
      "https://twitter.com/dog_rates/status/709198395643068416/photo/1\n",
      "Numerator: 75\n",
      "https://twitter.com/dog_rates/status/786709082849828864/photo/1\n",
      "Numerator: 99\n",
      "https://twitter.com/dog_rates/status/713900603437621249/photo/1\n",
      "Numerator: 0\n",
      "https://twitter.com/dog_rates/status/835152434251116546/photo/1,https://twitter.com/dog_rates/status/835152434251116546/photo/1,https://twitter.com/dog_rates/status/835152434251116546/photo/1\n"
     ]
    }
   ],
   "source": [
    "# Check 26, 44, 165, 24, 60, 50, 144, 80, 84, 88, 121, 204, 420, 1776, 27, 45, 75, 99, 0\n",
    "num_check = [26, 44, 165, 24, 60, 50, 144, 80, 84, 88, 121, 204, 420, 1776, 27, 45, 75, 99, 0]\n",
    "\n",
    "# Check tweets for weird numerators\n",
    "for num in num_check:\n",
    "    print(\"Numerator: %s\" % num)\n",
    "    print(twitter_archive_df_clean[twitter_archive_df_clean.rating_numerator == num].iloc[0].expanded_urls)"
   ]
  },
  {
   "cell_type": "code",
   "execution_count": 1307,
   "metadata": {},
   "outputs": [],
   "source": [
    "# Helper functions to change values and delete observations\n",
    "\n",
    "def change_val(df, col, old_val, new_val):\n",
    "    '''\n",
    "    Function that replace specific values in a df column\n",
    "    Inputs: dataframe, column, old value, new value\n",
    "    Outputs: dataframe\n",
    "    '''\n",
    "    # Replace value\n",
    "    df[col].replace(old_val, new_val, inplace=True)\n",
    "    return df\n",
    "\n",
    "def delete_val(df, col, val):\n",
    "    '''\n",
    "    Function that deletes observation with specific column value\n",
    "    Inputs: dataframe, column, value\n",
    "    Outputs: dataframe\n",
    "    '''\n",
    "    # Find observation index\n",
    "    obs_index = df[df[col] == val].index[0]\n",
    "    # Delete observation\n",
    "    df.drop(obs_index, inplace=True)\n",
    "    return df"
   ]
  },
  {
   "cell_type": "code",
   "execution_count": 1308,
   "metadata": {},
   "outputs": [],
   "source": [
    "# Change rating_numerator 26 to 11.26, 27 to 11.27, 75 to 9.75\n",
    "\n",
    "# Change rating_numerator column from int to float\n",
    "twitter_archive_df_clean.rating_numerator = twitter_archive_df_clean.rating_numerator.astype(float)\n",
    "\n",
    "# List of values to change\n",
    "vals_change = [{'old': 26, 'new': 11.26},\n",
    "               {'old': 27, 'new': 11.27},\n",
    "               {'old': 75, 'new': 9.75}]\n",
    "# Change incorrect rating_numerator values\n",
    "for vals in vals_change:\n",
    "    change_val(twitter_archive_df_clean, 'rating_numerator', vals['old'], vals['new'])"
   ]
  },
  {
   "cell_type": "code",
   "execution_count": 1309,
   "metadata": {},
   "outputs": [],
   "source": [
    "# Delete observations with rating_numerator 0 and 24\n",
    "\n",
    "# List of values to delete\n",
    "val_delete = [0, 24]\n",
    "# Delete values\n",
    "for val in val_delete:\n",
    "    delete_val(twitter_archive_df_clean, 'rating_numerator', val)"
   ]
  },
  {
   "cell_type": "code",
   "execution_count": 1310,
   "metadata": {},
   "outputs": [],
   "source": [
    "# Change numerator 50 to numerator 11 and denominator 10\n",
    "obs_index = twitter_archive_df_clean.query('rating_numerator == 50').index[0]\n",
    "twitter_archive_df_clean.at[obs_index, 'rating_numerator'] = 11\n",
    "twitter_archive_df_clean.at[obs_index, 'rating_denominator'] = 10"
   ]
  },
  {
   "cell_type": "markdown",
   "metadata": {},
   "source": [
    "##### Test"
   ]
  },
  {
   "cell_type": "code",
   "execution_count": 1311,
   "metadata": {
    "scrolled": true
   },
   "outputs": [
    {
     "data": {
      "text/plain": [
       "12.00      486\n",
       "10.00      436\n",
       "11.00      414\n",
       "13.00      286\n",
       "9.00       153\n",
       "8.00        98\n",
       "7.00        52\n",
       "14.00       38\n",
       "5.00        34\n",
       "6.00        32\n",
       "3.00        19\n",
       "4.00        16\n",
       "2.00         9\n",
       "1.00         5\n",
       "80.00        1\n",
       "84.00        1\n",
       "420.00       1\n",
       "1776.00      1\n",
       "44.00        1\n",
       "144.00       1\n",
       "88.00        1\n",
       "11.26        1\n",
       "11.27        1\n",
       "121.00       1\n",
       "9.75         1\n",
       "99.00        1\n",
       "204.00       1\n",
       "45.00        1\n",
       "165.00       1\n",
       "60.00        1\n",
       "Name: rating_numerator, dtype: int64"
      ]
     },
     "execution_count": 1311,
     "metadata": {},
     "output_type": "execute_result"
    }
   ],
   "source": [
    "# Check rating_numerator values\n",
    "twitter_archive_df_clean.rating_numerator.value_counts()"
   ]
  },
  {
   "cell_type": "markdown",
   "metadata": {},
   "source": [
    "#### rating_denominator values\n",
    "\n",
    "##### Define\n",
    "- check/modify any incorrect rating_denominator values\n",
    "\n",
    "##### Code"
   ]
  },
  {
   "cell_type": "code",
   "execution_count": 1312,
   "metadata": {
    "scrolled": true
   },
   "outputs": [
    {
     "data": {
      "text/plain": [
       "10     2079\n",
       "11        2\n",
       "80        2\n",
       "50        2\n",
       "170       1\n",
       "150       1\n",
       "120       1\n",
       "110       1\n",
       "90        1\n",
       "70        1\n",
       "40        1\n",
       "20        1\n",
       "2         1\n",
       "Name: rating_denominator, dtype: int64"
      ]
     },
     "execution_count": 1312,
     "metadata": {},
     "output_type": "execute_result"
    }
   ],
   "source": [
    "# Check rating_denominator values\n",
    "twitter_archive_df_clean.rating_denominator.value_counts()"
   ]
  },
  {
   "cell_type": "code",
   "execution_count": 1313,
   "metadata": {
    "scrolled": true
   },
   "outputs": [
    {
     "name": "stdout",
     "output_type": "stream",
     "text": [
      "Denominator: 80\n",
      "https://twitter.com/dog_rates/status/710658690886586372/photo/1\n",
      "Denominator: 50\n",
      "https://twitter.com/dog_rates/status/709198395643068416/photo/1\n",
      "Denominator: 170\n",
      "https://twitter.com/dog_rates/status/731156023742988288/photo/1\n",
      "Denominator: 150\n",
      "https://twitter.com/dog_rates/status/758467244762497024/video/1\n",
      "Denominator: 120\n",
      "https://twitter.com/dog_rates/status/677716515794329600/photo/1\n",
      "Denominator: 110\n",
      "https://twitter.com/dog_rates/status/684222868335505415/photo/1\n",
      "Denominator: 90\n",
      "https://twitter.com/dog_rates/status/713900603437621249/photo/1\n",
      "Denominator: 70\n",
      "https://twitter.com/dog_rates/status/820690176645140481/photo/1,https://twitter.com/dog_rates/status/820690176645140481/photo/1,https://twitter.com/dog_rates/status/820690176645140481/photo/1\n",
      "Denominator: 40\n",
      "https://twitter.com/dog_rates/status/697463031882764288/photo/1\n",
      "Denominator: 20\n",
      "https://twitter.com/dog_rates/status/722974582966214656/photo/1\n",
      "Denominator: 2\n",
      "https://twitter.com/dog_rates/status/666287406224695296/photo/1\n"
     ]
    }
   ],
   "source": [
    "# Check 80, 50, 170, 150, 120, 110, 90, 70, 40, 20, 2\n",
    "den_check = [80, 50, 170, 150, 120, 110, 90, 70, 40, 20, 2]\n",
    "\n",
    "# Check tweets for weird numerators\n",
    "for den in den_check:\n",
    "    print(\"Denominator: %s\" % den)\n",
    "    print(twitter_archive_df_clean[twitter_archive_df_clean.rating_denominator == den].iloc[0].expanded_urls)"
   ]
  },
  {
   "cell_type": "code",
   "execution_count": 1314,
   "metadata": {},
   "outputs": [],
   "source": [
    "# Change denominator 20 to numerator 13 and denominator 10\n",
    "# Change denominator 2 to numerator 9 and denominator 10\n",
    "vals_change = [{'old': 20, 'new': {'numerator': 13, 'denominator': 10}},\n",
    "               {'old': 2, 'new': {'numerator': 9, 'denominator': 10}}]\n",
    "\n",
    "for vals in vals_change:\n",
    "    # Find index of old value\n",
    "    obs_index = twitter_archive_df_clean[twitter_archive_df_clean.rating_denominator == vals['old']].index[0]\n",
    "    twitter_archive_df_clean.at[obs_index, 'rating_numerator'] = vals['new']['numerator']\n",
    "    twitter_archive_df_clean.at[obs_index, 'rating_denominator'] = vals['new']['denominator']"
   ]
  },
  {
   "cell_type": "markdown",
   "metadata": {},
   "source": [
    "##### Test"
   ]
  },
  {
   "cell_type": "code",
   "execution_count": 1315,
   "metadata": {},
   "outputs": [
    {
     "data": {
      "text/plain": [
       "10     2081\n",
       "11        2\n",
       "80        2\n",
       "50        2\n",
       "170       1\n",
       "150       1\n",
       "120       1\n",
       "110       1\n",
       "90        1\n",
       "70        1\n",
       "40        1\n",
       "Name: rating_denominator, dtype: int64"
      ]
     },
     "execution_count": 1315,
     "metadata": {},
     "output_type": "execute_result"
    }
   ],
   "source": [
    "# Check rating_denominator values\n",
    "twitter_archive_df_clean.rating_denominator.value_counts()"
   ]
  },
  {
   "cell_type": "markdown",
   "metadata": {},
   "source": [
    "#### name values\n",
    "\n",
    "##### Define\n",
    "- name has erroneous values like 'a', 'the', 'an'\n",
    "\n",
    "##### Code"
   ]
  },
  {
   "cell_type": "code",
   "execution_count": 1316,
   "metadata": {
    "scrolled": true
   },
   "outputs": [
    {
     "data": {
      "text/plain": [
       "None         602\n",
       "a             55\n",
       "Charlie       11\n",
       "Lucy          11\n",
       "Oliver        10\n",
       "Cooper        10\n",
       "Tucker         9\n",
       "Penny          9\n",
       "Winston        8\n",
       "Sadie          8\n",
       "Lola           8\n",
       "the            8\n",
       "Toby           7\n",
       "Daisy          7\n",
       "Jax            6\n",
       "Bo             6\n",
       "Koda           6\n",
       "Oscar          6\n",
       "Bailey         6\n",
       "an             6\n",
       "Bella          6\n",
       "Stanley        6\n",
       "Dave           5\n",
       "Rusty          5\n",
       "Chester        5\n",
       "Scout          5\n",
       "Leo            5\n",
       "Bentley        5\n",
       "Louis          5\n",
       "Buddy          5\n",
       "            ... \n",
       "Beya           1\n",
       "Pinot          1\n",
       "Edmund         1\n",
       "Kody           1\n",
       "Jed            1\n",
       "Sweets         1\n",
       "Ester          1\n",
       "JD             1\n",
       "Rolf           1\n",
       "Goose          1\n",
       "Herschel       1\n",
       "Nico           1\n",
       "Teddy          1\n",
       "Barclay        1\n",
       "Miguel         1\n",
       "Meera          1\n",
       "Patch          1\n",
       "Rilo           1\n",
       "Kingsley       1\n",
       "Hermione       1\n",
       "Pavlov         1\n",
       "Rascal         1\n",
       "Blanket        1\n",
       "Zoe            1\n",
       "Jaycob         1\n",
       "Kyro           1\n",
       "Strider        1\n",
       "Anthony        1\n",
       "Grizzwald      1\n",
       "Crimson        1\n",
       "Name: name, Length: 954, dtype: int64"
      ]
     },
     "execution_count": 1316,
     "metadata": {},
     "output_type": "execute_result"
    }
   ],
   "source": [
    "twitter_archive_df_clean.name.value_counts()"
   ]
  },
  {
   "cell_type": "code",
   "execution_count": 1220,
   "metadata": {},
   "outputs": [],
   "source": [
    "# Replace names of None, a, the, an with Null values\n",
    "# List of names to replace with null values\n",
    "names_replace = ['None', 'a', 'the', 'an', 'very', 'one', 'just', 'quite', 'actually', 'not', 'getting']\n",
    "\n",
    "# Replace each name with null values\n",
    "for name in names_replace:\n",
    "    twitter_archive_df_clean.name.replace(name,np.nan, inplace=True)"
   ]
  },
  {
   "cell_type": "markdown",
   "metadata": {},
   "source": [
    "##### Test"
   ]
  },
  {
   "cell_type": "code",
   "execution_count": 1222,
   "metadata": {
    "scrolled": true
   },
   "outputs": [
    {
     "data": {
      "text/plain": [
       "Dash         2\n",
       "Kirby        2\n",
       "Ollie        2\n",
       "Piper        2\n",
       "Misty        2\n",
       "Blitz        2\n",
       "Sarge        2\n",
       "Thumas       2\n",
       "Herm         2\n",
       "Odie         2\n",
       "Raymond      2\n",
       "Calbert      2\n",
       "Titan        2\n",
       "Albus        2\n",
       "Jimison      2\n",
       "Jeph         2\n",
       "Layla        2\n",
       "Fred         2\n",
       "Chuckles     2\n",
       "Rocky        2\n",
       "Eli          2\n",
       "Chet         2\n",
       "Linda        2\n",
       "Kenneth      2\n",
       "Remington    2\n",
       "CeCe         2\n",
       "Jesse        2\n",
       "Theodore     2\n",
       "Hunter       2\n",
       "Franklin     2\n",
       "Lou          2\n",
       "Bubbles      2\n",
       "Benji        2\n",
       "Frankie      2\n",
       "Keurig       2\n",
       "Pippa        2\n",
       "Trooper      2\n",
       "Griffin      2\n",
       "Solomon      2\n",
       "Indie        2\n",
       "Keith        2\n",
       "Olivia       2\n",
       "Sugar        2\n",
       "Opal         2\n",
       "Terry        2\n",
       "Phineas      2\n",
       "Hammond      2\n",
       "Roosevelt    2\n",
       "Rory         2\n",
       "Creg         1\n",
       "Beemo        1\n",
       "Bronte       1\n",
       "Genevieve    1\n",
       "Clyde        1\n",
       "Fillup       1\n",
       "Buckley      1\n",
       "Antony       1\n",
       "Frönq        1\n",
       "Deacon       1\n",
       "Bruno        1\n",
       "Name: name, dtype: int64"
      ]
     },
     "execution_count": 1222,
     "metadata": {},
     "output_type": "execute_result"
    }
   ],
   "source": [
    "# Check rating_denominator values\n",
    "twitter_archive_df_clean.name.value_counts()[180:240]"
   ]
  },
  {
   "cell_type": "markdown",
   "metadata": {},
   "source": [
    "#### expanded_urls\n",
    "\n",
    "##### Define\n",
    "- check/modify any expanded_urls with multiple urls\n",
    "\n",
    "##### Code"
   ]
  },
  {
   "cell_type": "code",
   "execution_count": 1381,
   "metadata": {},
   "outputs": [
    {
     "data": {
      "text/plain": [
       "237     https://www.petfinder.com/petdetail/37334596,h...\n",
       "344     https://www.petfinder.com/petdetail/34918210,h...\n",
       "391     http://us.blastingnews.com/news/2017/01/kentuc...\n",
       "436     https://www.loveyourmelon.com/pages/ourstory,h...\n",
       "508     https://m.facebook.com/story.php?story_fbid=18...\n",
       "1265    http://goo.gl/ArWZfi,https://twitter.com/dog_r...\n",
       "Name: expanded_urls, dtype: object"
      ]
     },
     "execution_count": 1381,
     "metadata": {},
     "output_type": "execute_result"
    }
   ],
   "source": [
    "# Extract links with commas\n",
    "problem_links = twitter_archive_df_clean[twitter_archive_df_clean.expanded_urls.fillna('').str.contains(',')].expanded_urls\n",
    "\n",
    "# There are two types of double-links, \n",
    "# links with gofundme links and duplicate links\n",
    "\n",
    "# Extract the gofundme links and check that they are always the first one\n",
    "problem_links[problem_links.str.contains('gofundme')].apply(lambda x: 'gofundme' not in x.split(',')[0]).sum()\n",
    "# They are always the first link\n",
    "\n",
    "# Extract the non-gofundme links and check that they are always duplicates\n",
    "ngfm_links = problem_links[problem_links.str.contains('gofundme')==False]\n",
    "# There are 6 non-duplicates\n",
    "\n",
    "# Check the non-duplicates\n",
    "ngfm_links[ngfm_links.str.split(',').apply(lambda x: x[0]!=x[1])]\n",
    "# They are always contained in the first link"
   ]
  },
  {
   "cell_type": "code",
   "execution_count": 1391,
   "metadata": {},
   "outputs": [],
   "source": [
    "# For the expanded_urls column observations with multiple links\n",
    "# Remove the first link\n",
    "twitter_archive_df_clean.loc[twitter_archive_df_clean.expanded_urls.fillna('').str.contains(','), 'expanded_urls'] = twitter_archive_df_clean.loc[twitter_archive_df_clean.expanded_urls.fillna('').str.contains(','),'expanded_urls'].apply(lambda x: x.split(',')[1])"
   ]
  },
  {
   "cell_type": "markdown",
   "metadata": {},
   "source": [
    "##### Test"
   ]
  },
  {
   "cell_type": "code",
   "execution_count": 1392,
   "metadata": {},
   "outputs": [
    {
     "data": {
      "text/html": [
       "<div>\n",
       "<style scoped>\n",
       "    .dataframe tbody tr th:only-of-type {\n",
       "        vertical-align: middle;\n",
       "    }\n",
       "\n",
       "    .dataframe tbody tr th {\n",
       "        vertical-align: top;\n",
       "    }\n",
       "\n",
       "    .dataframe thead th {\n",
       "        text-align: right;\n",
       "    }\n",
       "</style>\n",
       "<table border=\"1\" class=\"dataframe\">\n",
       "  <thead>\n",
       "    <tr style=\"text-align: right;\">\n",
       "      <th></th>\n",
       "      <th>tweet_id</th>\n",
       "      <th>timestamp</th>\n",
       "      <th>source</th>\n",
       "      <th>text</th>\n",
       "      <th>expanded_urls</th>\n",
       "      <th>rating_numerator</th>\n",
       "      <th>rating_denominator</th>\n",
       "      <th>name</th>\n",
       "      <th>retweet_count</th>\n",
       "      <th>favorite_count</th>\n",
       "      <th>stage</th>\n",
       "    </tr>\n",
       "  </thead>\n",
       "  <tbody>\n",
       "  </tbody>\n",
       "</table>\n",
       "</div>"
      ],
      "text/plain": [
       "Empty DataFrame\n",
       "Columns: [tweet_id, timestamp, source, text, expanded_urls, rating_numerator, rating_denominator, name, retweet_count, favorite_count, stage]\n",
       "Index: []"
      ]
     },
     "execution_count": 1392,
     "metadata": {},
     "output_type": "execute_result"
    }
   ],
   "source": [
    "# Make sure there are no double expanded_url entries\n",
    "twitter_archive_df_clean[twitter_archive_df_clean.expanded_urls.fillna('').str.contains(',')]"
   ]
  },
  {
   "cell_type": "markdown",
   "metadata": {},
   "source": [
    "## Store\n",
    "\n",
    "### twitter_archive_df"
   ]
  },
  {
   "cell_type": "code",
   "execution_count": 1401,
   "metadata": {},
   "outputs": [
    {
     "data": {
      "text/html": [
       "<div>\n",
       "<style scoped>\n",
       "    .dataframe tbody tr th:only-of-type {\n",
       "        vertical-align: middle;\n",
       "    }\n",
       "\n",
       "    .dataframe tbody tr th {\n",
       "        vertical-align: top;\n",
       "    }\n",
       "\n",
       "    .dataframe thead th {\n",
       "        text-align: right;\n",
       "    }\n",
       "</style>\n",
       "<table border=\"1\" class=\"dataframe\">\n",
       "  <thead>\n",
       "    <tr style=\"text-align: right;\">\n",
       "      <th></th>\n",
       "      <th>tweet_id</th>\n",
       "      <th>timestamp</th>\n",
       "      <th>source</th>\n",
       "      <th>text</th>\n",
       "      <th>expanded_urls</th>\n",
       "      <th>rating_numerator</th>\n",
       "      <th>rating_denominator</th>\n",
       "      <th>name</th>\n",
       "      <th>retweet_count</th>\n",
       "      <th>favorite_count</th>\n",
       "      <th>stage</th>\n",
       "    </tr>\n",
       "  </thead>\n",
       "  <tbody>\n",
       "    <tr>\n",
       "      <th>0</th>\n",
       "      <td>892420643555336193</td>\n",
       "      <td>2017-08-01 16:23:56+00:00</td>\n",
       "      <td>&lt;a href=\"http://twitter.com/download/iphone\" r...</td>\n",
       "      <td>This is Phineas. He's a mystical boy. Only eve...</td>\n",
       "      <td>https://twitter.com/dog_rates/status/892420643...</td>\n",
       "      <td>13.0</td>\n",
       "      <td>10</td>\n",
       "      <td>Phineas</td>\n",
       "      <td>2434.0</td>\n",
       "      <td>18814.0</td>\n",
       "      <td>NaN</td>\n",
       "    </tr>\n",
       "    <tr>\n",
       "      <th>1</th>\n",
       "      <td>891815181378084864</td>\n",
       "      <td>2017-07-31 00:18:03+00:00</td>\n",
       "      <td>&lt;a href=\"http://twitter.com/download/iphone\" r...</td>\n",
       "      <td>This is Archie. He is a rare Norwegian Pouncin...</td>\n",
       "      <td>https://twitter.com/dog_rates/status/891815181...</td>\n",
       "      <td>12.0</td>\n",
       "      <td>10</td>\n",
       "      <td>Archie</td>\n",
       "      <td>81.0</td>\n",
       "      <td>0.0</td>\n",
       "      <td>NaN</td>\n",
       "    </tr>\n",
       "    <tr>\n",
       "      <th>2</th>\n",
       "      <td>891689557279858688</td>\n",
       "      <td>2017-07-30 15:58:51+00:00</td>\n",
       "      <td>&lt;a href=\"http://twitter.com/download/iphone\" r...</td>\n",
       "      <td>This is Darla. She commenced a snooze mid meal...</td>\n",
       "      <td>https://twitter.com/dog_rates/status/891689557...</td>\n",
       "      <td>13.0</td>\n",
       "      <td>10</td>\n",
       "      <td>Darla</td>\n",
       "      <td>3526.0</td>\n",
       "      <td>21778.0</td>\n",
       "      <td>NaN</td>\n",
       "    </tr>\n",
       "    <tr>\n",
       "      <th>3</th>\n",
       "      <td>891327558926688256</td>\n",
       "      <td>2017-07-29 16:00:24+00:00</td>\n",
       "      <td>&lt;a href=\"http://twitter.com/download/iphone\" r...</td>\n",
       "      <td>This is Franklin. He would like you to stop ca...</td>\n",
       "      <td>https://twitter.com/dog_rates/status/891327558...</td>\n",
       "      <td>12.0</td>\n",
       "      <td>10</td>\n",
       "      <td>Franklin</td>\n",
       "      <td>8713.0</td>\n",
       "      <td>42214.0</td>\n",
       "      <td>NaN</td>\n",
       "    </tr>\n",
       "    <tr>\n",
       "      <th>4</th>\n",
       "      <td>891087950875897856</td>\n",
       "      <td>2017-07-29 00:08:17+00:00</td>\n",
       "      <td>&lt;a href=\"http://twitter.com/download/iphone\" r...</td>\n",
       "      <td>Here we have a majestic great white breaching ...</td>\n",
       "      <td>https://twitter.com/dog_rates/status/891087950...</td>\n",
       "      <td>13.0</td>\n",
       "      <td>10</td>\n",
       "      <td>None</td>\n",
       "      <td>3219.0</td>\n",
       "      <td>23436.0</td>\n",
       "      <td>NaN</td>\n",
       "    </tr>\n",
       "  </tbody>\n",
       "</table>\n",
       "</div>"
      ],
      "text/plain": [
       "             tweet_id                  timestamp  \\\n",
       "0  892420643555336193  2017-08-01 16:23:56+00:00   \n",
       "1  891815181378084864  2017-07-31 00:18:03+00:00   \n",
       "2  891689557279858688  2017-07-30 15:58:51+00:00   \n",
       "3  891327558926688256  2017-07-29 16:00:24+00:00   \n",
       "4  891087950875897856  2017-07-29 00:08:17+00:00   \n",
       "\n",
       "                                              source  \\\n",
       "0  <a href=\"http://twitter.com/download/iphone\" r...   \n",
       "1  <a href=\"http://twitter.com/download/iphone\" r...   \n",
       "2  <a href=\"http://twitter.com/download/iphone\" r...   \n",
       "3  <a href=\"http://twitter.com/download/iphone\" r...   \n",
       "4  <a href=\"http://twitter.com/download/iphone\" r...   \n",
       "\n",
       "                                                text  \\\n",
       "0  This is Phineas. He's a mystical boy. Only eve...   \n",
       "1  This is Archie. He is a rare Norwegian Pouncin...   \n",
       "2  This is Darla. She commenced a snooze mid meal...   \n",
       "3  This is Franklin. He would like you to stop ca...   \n",
       "4  Here we have a majestic great white breaching ...   \n",
       "\n",
       "                                       expanded_urls  rating_numerator  \\\n",
       "0  https://twitter.com/dog_rates/status/892420643...              13.0   \n",
       "1  https://twitter.com/dog_rates/status/891815181...              12.0   \n",
       "2  https://twitter.com/dog_rates/status/891689557...              13.0   \n",
       "3  https://twitter.com/dog_rates/status/891327558...              12.0   \n",
       "4  https://twitter.com/dog_rates/status/891087950...              13.0   \n",
       "\n",
       "   rating_denominator      name  retweet_count  favorite_count stage  \n",
       "0                  10   Phineas         2434.0         18814.0   NaN  \n",
       "1                  10    Archie           81.0             0.0   NaN  \n",
       "2                  10     Darla         3526.0         21778.0   NaN  \n",
       "3                  10  Franklin         8713.0         42214.0   NaN  \n",
       "4                  10      None         3219.0         23436.0   NaN  "
      ]
     },
     "execution_count": 1401,
     "metadata": {},
     "output_type": "execute_result"
    }
   ],
   "source": [
    "# Store twitter_archive_df_clean in twitter_archive_master.csv\n",
    "twitter_archive_df_clean.to_csv('twitter_archive_master.csv', index=False)\n",
    "\n",
    "# Check it was created\n",
    "pd.read_csv('twitter_archive_master.csv').head()"
   ]
  },
  {
   "cell_type": "markdown",
   "metadata": {},
   "source": [
    "### image_predictions_df"
   ]
  },
  {
   "cell_type": "code",
   "execution_count": 1402,
   "metadata": {
    "scrolled": true
   },
   "outputs": [
    {
     "data": {
      "text/html": [
       "<div>\n",
       "<style scoped>\n",
       "    .dataframe tbody tr th:only-of-type {\n",
       "        vertical-align: middle;\n",
       "    }\n",
       "\n",
       "    .dataframe tbody tr th {\n",
       "        vertical-align: top;\n",
       "    }\n",
       "\n",
       "    .dataframe thead th {\n",
       "        text-align: right;\n",
       "    }\n",
       "</style>\n",
       "<table border=\"1\" class=\"dataframe\">\n",
       "  <thead>\n",
       "    <tr style=\"text-align: right;\">\n",
       "      <th></th>\n",
       "      <th>tweet_id</th>\n",
       "      <th>jpg_url</th>\n",
       "      <th>img_num</th>\n",
       "      <th>p1</th>\n",
       "      <th>p1_conf</th>\n",
       "      <th>p1_dog</th>\n",
       "      <th>p2</th>\n",
       "      <th>p2_conf</th>\n",
       "      <th>p2_dog</th>\n",
       "      <th>p3</th>\n",
       "      <th>p3_conf</th>\n",
       "      <th>p3_dog</th>\n",
       "    </tr>\n",
       "  </thead>\n",
       "  <tbody>\n",
       "    <tr>\n",
       "      <th>0</th>\n",
       "      <td>666020888022790149</td>\n",
       "      <td>https://pbs.twimg.com/media/CT4udn0WwAA0aMy.jpg</td>\n",
       "      <td>1</td>\n",
       "      <td>Welsh_springer_spaniel</td>\n",
       "      <td>0.465074</td>\n",
       "      <td>True</td>\n",
       "      <td>collie</td>\n",
       "      <td>0.156665</td>\n",
       "      <td>True</td>\n",
       "      <td>Shetland_sheepdog</td>\n",
       "      <td>0.061428</td>\n",
       "      <td>True</td>\n",
       "    </tr>\n",
       "    <tr>\n",
       "      <th>1</th>\n",
       "      <td>666029285002620928</td>\n",
       "      <td>https://pbs.twimg.com/media/CT42GRgUYAA5iDo.jpg</td>\n",
       "      <td>1</td>\n",
       "      <td>redbone</td>\n",
       "      <td>0.506826</td>\n",
       "      <td>True</td>\n",
       "      <td>miniature_pinscher</td>\n",
       "      <td>0.074192</td>\n",
       "      <td>True</td>\n",
       "      <td>Rhodesian_ridgeback</td>\n",
       "      <td>0.072010</td>\n",
       "      <td>True</td>\n",
       "    </tr>\n",
       "    <tr>\n",
       "      <th>2</th>\n",
       "      <td>666033412701032449</td>\n",
       "      <td>https://pbs.twimg.com/media/CT4521TWwAEvMyu.jpg</td>\n",
       "      <td>1</td>\n",
       "      <td>German_shepherd</td>\n",
       "      <td>0.596461</td>\n",
       "      <td>True</td>\n",
       "      <td>malinois</td>\n",
       "      <td>0.138584</td>\n",
       "      <td>True</td>\n",
       "      <td>bloodhound</td>\n",
       "      <td>0.116197</td>\n",
       "      <td>True</td>\n",
       "    </tr>\n",
       "    <tr>\n",
       "      <th>3</th>\n",
       "      <td>666044226329800704</td>\n",
       "      <td>https://pbs.twimg.com/media/CT5Dr8HUEAA-lEu.jpg</td>\n",
       "      <td>1</td>\n",
       "      <td>Rhodesian_ridgeback</td>\n",
       "      <td>0.408143</td>\n",
       "      <td>True</td>\n",
       "      <td>redbone</td>\n",
       "      <td>0.360687</td>\n",
       "      <td>True</td>\n",
       "      <td>miniature_pinscher</td>\n",
       "      <td>0.222752</td>\n",
       "      <td>True</td>\n",
       "    </tr>\n",
       "    <tr>\n",
       "      <th>4</th>\n",
       "      <td>666049248165822465</td>\n",
       "      <td>https://pbs.twimg.com/media/CT5IQmsXIAAKY4A.jpg</td>\n",
       "      <td>1</td>\n",
       "      <td>miniature_pinscher</td>\n",
       "      <td>0.560311</td>\n",
       "      <td>True</td>\n",
       "      <td>Rottweiler</td>\n",
       "      <td>0.243682</td>\n",
       "      <td>True</td>\n",
       "      <td>Doberman</td>\n",
       "      <td>0.154629</td>\n",
       "      <td>True</td>\n",
       "    </tr>\n",
       "  </tbody>\n",
       "</table>\n",
       "</div>"
      ],
      "text/plain": [
       "             tweet_id                                          jpg_url  \\\n",
       "0  666020888022790149  https://pbs.twimg.com/media/CT4udn0WwAA0aMy.jpg   \n",
       "1  666029285002620928  https://pbs.twimg.com/media/CT42GRgUYAA5iDo.jpg   \n",
       "2  666033412701032449  https://pbs.twimg.com/media/CT4521TWwAEvMyu.jpg   \n",
       "3  666044226329800704  https://pbs.twimg.com/media/CT5Dr8HUEAA-lEu.jpg   \n",
       "4  666049248165822465  https://pbs.twimg.com/media/CT5IQmsXIAAKY4A.jpg   \n",
       "\n",
       "   img_num                      p1   p1_conf  p1_dog                  p2  \\\n",
       "0        1  Welsh_springer_spaniel  0.465074    True              collie   \n",
       "1        1                 redbone  0.506826    True  miniature_pinscher   \n",
       "2        1         German_shepherd  0.596461    True            malinois   \n",
       "3        1     Rhodesian_ridgeback  0.408143    True             redbone   \n",
       "4        1      miniature_pinscher  0.560311    True          Rottweiler   \n",
       "\n",
       "    p2_conf  p2_dog                   p3   p3_conf  p3_dog  \n",
       "0  0.156665    True    Shetland_sheepdog  0.061428    True  \n",
       "1  0.074192    True  Rhodesian_ridgeback  0.072010    True  \n",
       "2  0.138584    True           bloodhound  0.116197    True  \n",
       "3  0.360687    True   miniature_pinscher  0.222752    True  \n",
       "4  0.243682    True             Doberman  0.154629    True  "
      ]
     },
     "execution_count": 1402,
     "metadata": {},
     "output_type": "execute_result"
    }
   ],
   "source": [
    "# Store image_predictions_df in image_predictions_df.csv\n",
    "image_predictions_df.to_csv('image_predictions_df.csv', index=False)\n",
    "\n",
    "# Check it was created\n",
    "pd.read_csv('image_predictions_df.csv').head()"
   ]
  },
  {
   "cell_type": "markdown",
   "metadata": {},
   "source": [
    "## Analyze/Visualize\n",
    "\n",
    "Initial questions I have:\n",
    "- Is the rating correlated with retweet_count or favorite_count?\n",
    "- Does the amount of text correlate with the rating, retweet_count, or favorite_count?\n",
    "- Does dog breed correlate with rating, retweet_count, or favorite_count?"
   ]
  },
  {
   "cell_type": "code",
   "execution_count": 1549,
   "metadata": {},
   "outputs": [],
   "source": [
    "# Import clean data\n",
    "twitter_df = pd.read_csv('twitter_archive_master.csv')\n",
    "image_df = pd.read_csv('image_predictions_df.csv')"
   ]
  },
  {
   "cell_type": "markdown",
   "metadata": {},
   "source": [
    "### Rating Correlation with retweet_count and favorite_count\n",
    "\n",
    "####  Plot rating_numerator/rating_denominator and retweet_count"
   ]
  },
  {
   "cell_type": "code",
   "execution_count": 1456,
   "metadata": {},
   "outputs": [],
   "source": [
    "# Remove outliers from twitter_df\n",
    "twitter_df_no = twitter_df[twitter_df.rating_numerator/twitter_df.rating_denominator < 25]"
   ]
  },
  {
   "cell_type": "code",
   "execution_count": 1590,
   "metadata": {
    "scrolled": true
   },
   "outputs": [
    {
     "data": {
      "image/png": "[encoded data removed]",
      "text/plain": [
       "<matplotlib.figure.Figure at 0x1266b0f98>"
      ]
     },
     "metadata": {},
     "output_type": "display_data"
    }
   ],
   "source": [
    "plt.scatter(x=twitter_df_no.rating_numerator/twitter_df_no.rating_denominator, y=twitter_df_no.retweet_count);\n",
    "plt.axis((0,1.5,0,60000));\n",
    "plt.title('Tweet Rating vs. Number of Retweets');\n",
    "plt.xlabel('Tweet Rating');\n",
    "plt.ylabel('Retweets');\n",
    "plt.tight_layout();\n",
    "plt.savefig('images/rating_retweet.png')"
   ]
  },
  {
   "cell_type": "code",
   "execution_count": 1458,
   "metadata": {},
   "outputs": [
    {
     "data": {
      "text/plain": [
       "0.2146865439718584"
      ]
     },
     "execution_count": 1458,
     "metadata": {},
     "output_type": "execute_result"
    }
   ],
   "source": [
    "# Correlation coefficient between rating_numerator/rating_denominator and retweet_count\n",
    "(twitter_df_no.rating_numerator/twitter_df_no.rating_denominator).corr(twitter_df_no.retweet_count)"
   ]
  },
  {
   "cell_type": "markdown",
   "metadata": {},
   "source": [
    "#### Plot rating_numerator/rating_denominator and favorite_count"
   ]
  },
  {
   "cell_type": "code",
   "execution_count": 1591,
   "metadata": {},
   "outputs": [
    {
     "data": {
      "image/png": "[encoded data removed]",
      "text/plain": [
       "<matplotlib.figure.Figure at 0x126a705c0>"
      ]
     },
     "metadata": {},
     "output_type": "display_data"
    }
   ],
   "source": [
    "plt.scatter(x=twitter_df_no.rating_numerator/twitter_df_no.rating_denominator, y=twitter_df_no.favorite_count);\n",
    "plt.axis((0,1.5,0,150000));\n",
    "plt.title('Tweet Rating vs. Number of Favorites');\n",
    "plt.xlabel('Tweet Rating');\n",
    "plt.ylabel('Favorites');\n",
    "plt.tight_layout();\n",
    "plt.savefig('images/rating_favorite.png')"
   ]
  },
  {
   "cell_type": "code",
   "execution_count": 1460,
   "metadata": {},
   "outputs": [
    {
     "data": {
      "text/plain": [
       "0.28474617196612567"
      ]
     },
     "execution_count": 1460,
     "metadata": {},
     "output_type": "execute_result"
    }
   ],
   "source": [
    "# Correlation coefficient between rating_numerator/rating_denominator and favorite_count\n",
    "(twitter_df_no.rating_numerator/twitter_df_no.rating_denominator).corr(twitter_df_no.favorite_count)"
   ]
  },
  {
   "cell_type": "markdown",
   "metadata": {},
   "source": [
    "There appear to be weak correlations between:\n",
    "- rating_numerator/rating_denominator and retweet_count with a correlation coefficient of 0.21\n",
    "- rating_numerator/rating_denominator and favorite_count with a correlation coefficient of 0.28"
   ]
  },
  {
   "cell_type": "markdown",
   "metadata": {},
   "source": [
    "### Text Length Correlation with rating, retweet_count, and favorite_count\n",
    "\n",
    "####  Plot text length and rating_numerator/rating_denominator"
   ]
  },
  {
   "cell_type": "code",
   "execution_count": 1467,
   "metadata": {},
   "outputs": [
    {
     "data": {
      "image/png": "[encoded data removed]",
      "text/plain": [
       "<matplotlib.figure.Figure at 0x1265a9d30>"
      ]
     },
     "metadata": {},
     "output_type": "display_data"
    }
   ],
   "source": [
    "plt.scatter(x=twitter_df_no.text.apply(lambda x: len(x)), y=twitter_df_no.rating_numerator/twitter_df_no.rating_denominator);\n",
    "plt.axis((0,200,0,1.5));"
   ]
  },
  {
   "cell_type": "code",
   "execution_count": 1468,
   "metadata": {},
   "outputs": [
    {
     "data": {
      "text/plain": [
       "-0.09712341787457571"
      ]
     },
     "execution_count": 1468,
     "metadata": {},
     "output_type": "execute_result"
    }
   ],
   "source": [
    "# Correlation coefficient between text length and rating_numerator/rating_denominator\n",
    "(twitter_df_no.text.apply(lambda x: len(x))).corr(twitter_df_no.rating_numerator/twitter_df_no.rating_denominator)"
   ]
  },
  {
   "cell_type": "markdown",
   "metadata": {},
   "source": [
    "####  Plot text length and retweet_count"
   ]
  },
  {
   "cell_type": "code",
   "execution_count": 1474,
   "metadata": {},
   "outputs": [
    {
     "data": {
      "image/png": "[encoded data removed]",
      "text/plain": [
       "<matplotlib.figure.Figure at 0x126a882b0>"
      ]
     },
     "metadata": {},
     "output_type": "display_data"
    }
   ],
   "source": [
    "plt.scatter(x=twitter_df_no.text.apply(lambda x: len(x)), y=twitter_df_no.retweet_count);"
   ]
  },
  {
   "cell_type": "code",
   "execution_count": 1475,
   "metadata": {},
   "outputs": [
    {
     "data": {
      "text/plain": [
       "0.10526461103571648"
      ]
     },
     "execution_count": 1475,
     "metadata": {},
     "output_type": "execute_result"
    }
   ],
   "source": [
    "# Correlation coefficient between text length and retweet_count\n",
    "(twitter_df_no.text.apply(lambda x: len(x))).corr(twitter_df_no.retweet_count)"
   ]
  },
  {
   "cell_type": "markdown",
   "metadata": {},
   "source": [
    "####  Plot text length and favorite_count"
   ]
  },
  {
   "cell_type": "code",
   "execution_count": 1476,
   "metadata": {},
   "outputs": [
    {
     "data": {
      "image/png": "[encoded data removed]",
      "text/plain": [
       "<matplotlib.figure.Figure at 0x1224b9c50>"
      ]
     },
     "metadata": {},
     "output_type": "display_data"
    }
   ],
   "source": [
    "plt.scatter(x=twitter_df_no.text.apply(lambda x: len(x)), y=twitter_df_no.favorite_count);"
   ]
  },
  {
   "cell_type": "code",
   "execution_count": 1478,
   "metadata": {},
   "outputs": [
    {
     "data": {
      "text/plain": [
       "0.1549993497082043"
      ]
     },
     "execution_count": 1478,
     "metadata": {},
     "output_type": "execute_result"
    }
   ],
   "source": [
    "# Correlation coefficient between text length and retweet_count\n",
    "(twitter_df_no.text.apply(lambda x: len(x))).corr(twitter_df_no.favorite_count)"
   ]
  },
  {
   "cell_type": "markdown",
   "metadata": {},
   "source": [
    "There do not appear to be correlations between:\n",
    "- text length and rating_numerator/rating_denominator with a correlation coefficient of -0.10\n",
    "- text length and retweet_count with a correlation coefficient of 0.11\n",
    "- text length and favorite_count with a correlation coefficient of 0.15"
   ]
  },
  {
   "cell_type": "markdown",
   "metadata": {},
   "source": [
    "### Dog Breed Correlation with rating, retweet_count, and favorite_count\n",
    "\n",
    "####  Modify Data"
   ]
  },
  {
   "cell_type": "code",
   "execution_count": 1550,
   "metadata": {},
   "outputs": [],
   "source": [
    "# Join image_predictions_df and twitter_archive_df\n",
    "twitter_df = twitter_df.join(image_df, rsuffix='-r', how='left')\n",
    "# Drop extra columns\n",
    "twitter_df.drop(axis=1, columns=['tweet_id-r','p2','p2_conf','p2_dog','p3','p3_conf','p3_dog'], inplace=True)"
   ]
  },
  {
   "cell_type": "code",
   "execution_count": 1551,
   "metadata": {},
   "outputs": [],
   "source": [
    "# Subset data for dog breeds with confidence > 0.5, group by dog breed\n",
    "twitter_subset_df = twitter_df.query('p1_conf > 0.5').query('p1_dog == True').groupby('p1')"
   ]
  },
  {
   "cell_type": "markdown",
   "metadata": {},
   "source": [
    "####  dog breed and rating_numerator/rating_denominator"
   ]
  },
  {
   "cell_type": "code",
   "execution_count": 1554,
   "metadata": {
    "scrolled": true
   },
   "outputs": [
    {
     "data": {
      "text/plain": [
       "p1\n",
       "Tibetan_terrier                1.300000\n",
       "Irish_terrier                  1.300000\n",
       "black-and-tan_coonhound        1.300000\n",
       "giant_schnauzer                1.300000\n",
       "miniature_schnauzer            1.300000\n",
       "standard_poodle                1.250000\n",
       "redbone                        1.250000\n",
       "English_springer               1.233333\n",
       "Newfoundland                   1.200000\n",
       "EntleBucher                    1.200000\n",
       "Japanese_spaniel               1.200000\n",
       "Welsh_springer_spaniel         1.200000\n",
       "Mexican_hairless               1.200000\n",
       "Shih-Tzu                       1.190909\n",
       "borzoi                         1.166667\n",
       "Yorkshire_terrier              1.166667\n",
       "Gordon_setter                  1.150000\n",
       "Dandie_Dinmont                 1.150000\n",
       "beagle                         1.144444\n",
       "malinois                       1.140000\n",
       "schipperke                     1.133333\n",
       "Italian_greyhound              1.120000\n",
       "German_short-haired_pointer    1.120000\n",
       "collie                         1.120000\n",
       "soft-coated_wheaten_terrier    1.117647\n",
       "Lakeland_terrier               1.114286\n",
       "basset                         1.111111\n",
       "Bernese_mountain_dog           1.109524\n",
       "Lhasa                          1.100000\n",
       "Irish_water_spaniel            1.100000\n",
       "                                 ...   \n",
       "Great_Pyrenees                 1.022222\n",
       "cocker_spaniel                 1.012500\n",
       "Staffordshire_bullterrier      1.009091\n",
       "Weimaraner                     1.000000\n",
       "toy_terrier                    1.000000\n",
       "Appenzeller                    1.000000\n",
       "Leonberg                       1.000000\n",
       "Norfolk_terrier                1.000000\n",
       "Rhodesian_ridgeback            1.000000\n",
       "Irish_setter                   1.000000\n",
       "bull_mastiff                   1.000000\n",
       "Greater_Swiss_Mountain_dog     1.000000\n",
       "keeshond                       0.975000\n",
       "bloodhound                     0.975000\n",
       "Pekinese                       0.966667\n",
       "German_shepherd                0.963158\n",
       "briard                         0.950000\n",
       "Cardigan                       0.950000\n",
       "Norwegian_elkhound             0.950000\n",
       "Siberian_husky                 0.937500\n",
       "Saluki                         0.933333\n",
       "kelpie                         0.925000\n",
       "malamute                       0.922222\n",
       "English_setter                 0.920000\n",
       "komondor                       0.900000\n",
       "Great_Dane                     0.900000\n",
       "miniature_poodle               0.900000\n",
       "clumber                        0.900000\n",
       "Border_terrier                 0.866667\n",
       "curly-coated_retriever         0.800000\n",
       "Length: 100, dtype: float64"
      ]
     },
     "execution_count": 1554,
     "metadata": {},
     "output_type": "execute_result"
    }
   ],
   "source": [
    "# average rating_numerator/rating_denominator per dog breed\n",
    "avg_rating_breed = (twitter_group_df.rating_numerator.mean()/twitter_group_df.rating_denominator.mean()).sort_values(ascending=False)\n",
    "avg_rating_breed"
   ]
  },
  {
   "cell_type": "code",
   "execution_count": 1559,
   "metadata": {},
   "outputs": [
    {
     "name": "stdout",
     "output_type": "stream",
     "text": [
      "Mean: 1.0660042128478873 \n",
      "Median: 1.0583333333333333\n"
     ]
    }
   ],
   "source": [
    "print(\"Mean: %s \\nMedian: %s\" % (avg_rating_breed.mean(), avg_rating_breed.median()))"
   ]
  },
  {
   "cell_type": "code",
   "execution_count": 1557,
   "metadata": {
    "scrolled": true
   },
   "outputs": [
    {
     "data": {
      "image/png": "[encoded data removed]",
      "text/plain": [
       "<matplotlib.figure.Figure at 0x11fca8828>"
      ]
     },
     "metadata": {},
     "output_type": "display_data"
    }
   ],
   "source": [
    "# Graph dog breed and average rating_numerator/rating_denominator per dog breed\n",
    "plt.hist(avg_rating_breed);"
   ]
  },
  {
   "cell_type": "markdown",
   "metadata": {},
   "source": [
    "Per the above table and graph, average rating_numerator/rating_denominator per dog breed show a relative consistency, where there are no dog breeds who's ratings are dramatically higher or lower than other dog breeds. The distribution of average rating_numerator/rating_denominator per dog breed is fairly symmetric with the median and mean both just over 1."
   ]
  },
  {
   "cell_type": "markdown",
   "metadata": {},
   "source": [
    "####  dog breed and retweet_count"
   ]
  },
  {
   "cell_type": "code",
   "execution_count": 1565,
   "metadata": {
    "scrolled": true
   },
   "outputs": [
    {
     "data": {
      "text/plain": [
       "p1\n",
       "miniature_schnauzer            11293.000000\n",
       "Tibetan_terrier                10786.000000\n",
       "Irish_terrier                   8245.000000\n",
       "groenendael                     6512.000000\n",
       "Yorkshire_terrier               5831.333333\n",
       "miniature_poodle                5493.000000\n",
       "Saint_Bernard                   5047.000000\n",
       "English_springer                4639.000000\n",
       "Tibetan_mastiff                 4548.500000\n",
       "schipperke                      4454.333333\n",
       "giant_schnauzer                 4382.000000\n",
       "Shih-Tzu                        4370.363636\n",
       "toy_poodle                      4202.583333\n",
       "Lhasa                           4166.500000\n",
       "Boston_bull                     3908.800000\n",
       "Rhodesian_ridgeback             3810.000000\n",
       "Maltese_dog                     3715.533333\n",
       "Dandie_Dinmont                  3551.000000\n",
       "Doberman                        3362.000000\n",
       "English_setter                  3101.200000\n",
       "Samoyed                         3047.125000\n",
       "West_Highland_white_terrier     3034.272727\n",
       "Siberian_husky                  2955.000000\n",
       "Leonberg                        2871.000000\n",
       "basset                          2863.222222\n",
       "keeshond                        2816.500000\n",
       "pug                             2746.266667\n",
       "papillon                        2702.666667\n",
       "Pomeranian                      2700.724138\n",
       "Airedale                        2680.166667\n",
       "                                   ...     \n",
       "Chesapeake_Bay_retriever        1258.363636\n",
       "kuvasz                          1178.333333\n",
       "beagle                          1170.222222\n",
       "basenji                         1155.666667\n",
       "Shetland_sheepdog               1091.583333\n",
       "Welsh_springer_spaniel          1090.000000\n",
       "bull_mastiff                    1074.600000\n",
       "Irish_water_spaniel             1061.000000\n",
       "Old_English_sheepdog            1052.625000\n",
       "Great_Pyrenees                  1040.222222\n",
       "EntleBucher                     1035.000000\n",
       "Cardigan                         952.571429\n",
       "Walker_hound                     943.500000\n",
       "bluetick                         933.000000\n",
       "Border_collie                    929.000000\n",
       "Great_Dane                       913.666667\n",
       "Ibizan_hound                     891.000000\n",
       "Staffordshire_bullterrier        856.272727\n",
       "kelpie                           729.500000\n",
       "Greater_Swiss_Mountain_dog       705.000000\n",
       "briard                           606.500000\n",
       "Irish_setter                     581.666667\n",
       "Newfoundland                     568.500000\n",
       "Border_terrier                   530.333333\n",
       "toy_terrier                      518.000000\n",
       "clumber                          484.000000\n",
       "Mexican_hairless                 451.000000\n",
       "curly-coated_retriever           431.000000\n",
       "Saluki                           314.000000\n",
       "Afghan_hound                     307.000000\n",
       "Name: retweet_count, Length: 100, dtype: float64"
      ]
     },
     "execution_count": 1565,
     "metadata": {},
     "output_type": "execute_result"
    }
   ],
   "source": [
    "# average retweet_count per dog breed\n",
    "avg_retweet_breed = (twitter_group_df.retweet_count.mean()).sort_values(ascending=False)\n",
    "avg_retweet_breed"
   ]
  },
  {
   "cell_type": "code",
   "execution_count": 1566,
   "metadata": {},
   "outputs": [
    {
     "name": "stdout",
     "output_type": "stream",
     "text": [
      "Mean: 2395.3104414974205 \n",
      "Median: 2034.75\n"
     ]
    }
   ],
   "source": [
    "print(\"Mean: %s \\nMedian: %s\" % (avg_retweet_breed.mean(), avg_retweet_breed.median()))"
   ]
  },
  {
   "cell_type": "code",
   "execution_count": 1588,
   "metadata": {},
   "outputs": [
    {
     "data": {
      "image/png": "[encoded data removed]",
      "text/plain": [
       "<matplotlib.figure.Figure at 0x126a73908>"
      ]
     },
     "metadata": {},
     "output_type": "display_data"
    }
   ],
   "source": [
    "# Graph dog breed and average retweet_count per dog breed\n",
    "plt.hist(avg_retweet_breed);\n",
    "plt.title('Average Retweets Per Post by Dog Breed');\n",
    "plt.xlabel('Average Number of Retweets Per Post');\n",
    "plt.ylabel('Count');\n",
    "plt.tight_layout();\n",
    "plt.savefig('images/breed_retweet.png')"
   ]
  },
  {
   "cell_type": "markdown",
   "metadata": {},
   "source": [
    "Per the above table and graph, the average number of retweets per post by dog breed display a long tail, right-skewed distribution with a median of 2,035 retweets per post and a mean of 2,395 retweets per post. The three dog breeds with the highest average number of retweets per post are the Miniature Schnauzer with 11,293, Tibetan Terrier with 10,786, and Irish Terrier with 8,245."
   ]
  },
  {
   "cell_type": "markdown",
   "metadata": {},
   "source": [
    "####  dog breed and favorite_count"
   ]
  },
  {
   "cell_type": "code",
   "execution_count": 1568,
   "metadata": {
    "scrolled": true
   },
   "outputs": [
    {
     "data": {
      "text/plain": [
       "p1\n",
       "Tibetan_terrier                50631.000000\n",
       "giant_schnauzer                25619.000000\n",
       "Yorkshire_terrier              24758.000000\n",
       "Irish_terrier                  23376.500000\n",
       "groenendael                    21386.000000\n",
       "miniature_poodle               17789.000000\n",
       "Lhasa                          17098.000000\n",
       "English_springer               16686.666667\n",
       "keeshond                       14347.000000\n",
       "Siberian_husky                 11588.750000\n",
       "black-and-tan_coonhound        11547.000000\n",
       "standard_poodle                11177.500000\n",
       "Blenheim_spaniel               11071.833333\n",
       "Boston_bull                    11070.400000\n",
       "Dandie_Dinmont                 10829.000000\n",
       "toy_poodle                     10674.791667\n",
       "Gordon_setter                  10655.000000\n",
       "Saint_Bernard                  10529.250000\n",
       "redbone                        10298.500000\n",
       "West_Highland_white_terrier     9847.727273\n",
       "borzoi                          9799.000000\n",
       "Brittany_spaniel                9260.571429\n",
       "Japanese_spaniel                8904.000000\n",
       "Doberman                        8809.142857\n",
       "basset                          8703.333333\n",
       "dalmatian                       8603.800000\n",
       "Maltese_dog                     8436.666667\n",
       "Shih-Tzu                        8412.909091\n",
       "Lakeland_terrier                8010.714286\n",
       "Rhodesian_ridgeback             7967.000000\n",
       "                                   ...     \n",
       "English_setter                  4008.600000\n",
       "Shetland_sheepdog               3994.500000\n",
       "Greater_Swiss_Mountain_dog      3511.000000\n",
       "Great_Pyrenees                  3503.111111\n",
       "bull_mastiff                    3477.600000\n",
       "Border_collie                   3450.500000\n",
       "beagle                          3364.888889\n",
       "Ibizan_hound                    3265.000000\n",
       "cocker_spaniel                  3138.250000\n",
       "Norwegian_elkhound              3001.000000\n",
       "Welsh_springer_spaniel          2910.000000\n",
       "bluetick                        2842.000000\n",
       "Cardigan                        2763.857143\n",
       "Eskimo_dog                      2631.555556\n",
       "Great_Dane                      2570.666667\n",
       "Staffordshire_bullterrier       2554.000000\n",
       "Walker_hound                    2491.500000\n",
       "clumber                         2222.000000\n",
       "Newfoundland                    1994.000000\n",
       "kelpie                          1949.250000\n",
       "briard                          1763.500000\n",
       "Irish_setter                    1664.666667\n",
       "Irish_water_spaniel             1648.000000\n",
       "Border_terrier                  1584.333333\n",
       "Mexican_hairless                1321.000000\n",
       "toy_terrier                     1305.000000\n",
       "curly-coated_retriever          1159.000000\n",
       "Saluki                           819.666667\n",
       "Afghan_hound                     779.000000\n",
       "miniature_schnauzer                0.000000\n",
       "Name: favorite_count, Length: 100, dtype: float64"
      ]
     },
     "execution_count": 1568,
     "metadata": {},
     "output_type": "execute_result"
    }
   ],
   "source": [
    "# average favorite_count per dog breed\n",
    "avg_favorite_breed = (twitter_group_df.favorite_count.mean()).sort_values(ascending=False)\n",
    "avg_favorite_breed"
   ]
  },
  {
   "cell_type": "code",
   "execution_count": 1569,
   "metadata": {},
   "outputs": [
    {
     "name": "stdout",
     "output_type": "stream",
     "text": [
      "Mean: 7226.002893656991 \n",
      "Median: 5671.233333333334\n"
     ]
    }
   ],
   "source": [
    "print(\"Mean: %s \\nMedian: %s\" % (avg_favorite_breed.mean(), avg_favorite_breed.median()))"
   ]
  },
  {
   "cell_type": "code",
   "execution_count": 1589,
   "metadata": {},
   "outputs": [
    {
     "data": {
      "image/png": "[encoded data removed]",
      "text/plain": [
       "<matplotlib.figure.Figure at 0x126511a90>"
      ]
     },
     "metadata": {},
     "output_type": "display_data"
    }
   ],
   "source": [
    "# Graph dog breed and average favorite_count per dog breed\n",
    "plt.hist(avg_favorite_breed);\n",
    "plt.title('Average Favorites Per Post by Dog Breed');\n",
    "plt.xlabel('Average Number of Favorites Per Post');\n",
    "plt.ylabel('Count');\n",
    "plt.tight_layout();\n",
    "plt.savefig('images/breed_favorite.png')"
   ]
  },
  {
   "cell_type": "markdown",
   "metadata": {},
   "source": [
    "Per the above table and graph, the average number of favorites per post by dog breed display a long tail, right-skewed distribution with a median of 5,671 favorites per post and a mean of 7,226 favorites per post. The three dog breeds with the highest average number of favorites per post are the Tibetan Terrier with 50,631, Giant Schnauzer with 25,619, and the Yorkshire Terrier with 24,758."
   ]
  }
 ],
 "metadata": {
  "kernelspec": {
   "display_name": "Python [conda env:anaconda3]",
   "language": "python",
   "name": "conda-env-anaconda3-py"
  },
  "language_info": {
   "codemirror_mode": {
    "name": "ipython",
    "version": 3
   },
   "file_extension": ".py",
   "mimetype": "text/x-python",
   "name": "python",
   "nbconvert_exporter": "python",
   "pygments_lexer": "ipython3",
   "version": "3.6.4"
  }
 },
 "nbformat": 4,
 "nbformat_minor": 2
}
