{
 "cells": [
  {
   "cell_type": "markdown",
   "metadata": {},
   "source": [
    "# Wrangle Report"
   ]
  },
  {
   "cell_type": "markdown",
   "metadata": {},
   "source": [
    "WeRateDogs Twitter data was gathered using three different methods\n",
    "General tweet data was gathered manually from a csv file\n",
    "Dog breed predictions for each tweet data was gathered programmatically from a tsv file\n",
    "Number of favorites and retweets per tweet was gathered through Twitter's API\n",
    "Once gathered, these data were converted to pandas dataframes, where they were assessed for data quality and tidiness issues and cleaned.\n",
    "\n",
    "This data was assessed both visually and programmatically for data quality and tidiness issues. Data quality issues included:\n",
    "- Tweet timestamp of object data type\n",
    "- Dog stage values (doggo, floofer, pupper, and puppo) included as individual columns\n",
    "- Erroneous rating and dog name values\n",
    "- Null values expressed as objects\n",
    "- Inconsistently formatted values\n",
    "- Tidiness issues included:\n",
    "- Variables unrelated to the project\n",
    "- Related variables spread across more than one dataframe\n",
    "\n",
    "These data quality and tidiness issues were then addressed with programmatic cleaning methods and exported to csv files.\n",
    "\n",
    "These csv files were then used in a brief exploratory data analysis that attempted to answer the following three questions:\n",
    "1. Does rating correlate with number of retweets or favorites?\n",
    "2. Does the amount of text correlate with the rating, number of retweets, or number of favorites?\n",
    "3. Does dog breed correlate with rating, number of retweets, or number of favorites?\n",
    "\n",
    "The exploratory data analysis showed: \n",
    "1. Weak correlations between rating and retweet count with a correlation coefficient of 0.21 and between rating and favorite count with a correlation coefficient of 0.28.\n",
    "2. No correlations between text length and rating with a correlation coefficient of -0.10, text length and number of retweets with a correlation coefficient of 0.11, and text length and number of favorites with a correlation coefficient of 0.15.\n",
    "3. The distributions of both retweet count grouped by dog breed and favorite count grouped by dog breed are both long-tailed, right-skewed distributions. The three dog breeds with the highest average number of retweets per post are the Miniature Schnauzer with 11,293, Tibetan Terrier with 10,786, and Irish Terrier with 8,245. The three dog breeds with the highest average number of favorites per post are the Tibetan Terrier with 50,631, Giant Schnauzer with 25,619, and the Yorkshire Terrier with 24,758."
   ]
  }
 ],
 "metadata": {
  "kernelspec": {
   "display_name": "Python [conda env:anaconda3]",
   "language": "python",
   "name": "conda-env-anaconda3-py"
  },
  "language_info": {
   "codemirror_mode": {
    "name": "ipython",
    "version": 3
   },
   "file_extension": ".py",
   "mimetype": "text/x-python",
   "name": "python",
   "nbconvert_exporter": "python",
   "pygments_lexer": "ipython3",
   "version": "3.6.4"
  }
 },
 "nbformat": 4,
 "nbformat_minor": 2
}
